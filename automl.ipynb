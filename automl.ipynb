{
  "cells": [
    {
      "cell_type": "markdown",
      "source": [
        "# Automated ML\n",
        "\n",
        "Import Dependencies. In the cell below, import all the dependencies that you will need to complete the project."
      ],
      "metadata": {}
    },
    {
      "cell_type": "code",
      "source": [
        "import requests\n",
        "import json\n",
        "import joblib\n",
        "import os\n",
        "import logging\n",
        "\n",
        "import pandas as pd\n",
        "\n",
        "from sklearn.model_selection import train_test_split\n",
        "from azureml.core.compute import ComputeTarget, AmlCompute\n",
        "from azureml.core.compute_target import ComputeTargetException\n",
        "from azureml.core import Workspace, Experiment, Dataset\n",
        "from azureml.data.dataset_factory import TabularDatasetFactory\n",
        "from azureml.train.automl import AutoMLConfig\n",
        "from azureml.widgets import RunDetails\n",
        "from azureml.train.automl.utilities import get_primary_metrics\n",
        "from azureml.core.webservice import AciWebservice, LocalWebservice\n",
        "from azureml.core import Environment\n",
        "from azureml.core.model import InferenceConfig\n",
        "from azureml.core.model import Model\n",
        "from azureml.widgets import RunDetails\n",
        "from azureml.automl.core.shared import constants\n",
        "\n",
        "\n",
        "ws = Workspace.from_config()"
      ],
      "outputs": [],
      "execution_count": 26,
      "metadata": {
        "gather": {
          "logged": 1630663266846
        },
        "jupyter": {
          "outputs_hidden": false,
          "source_hidden": false
        },
        "nteract": {
          "transient": {
            "deleting": false
          }
        }
      }
    },
    {
      "cell_type": "markdown",
      "source": [
        "## Dataset\n",
        "\n",
        "### Overview\n",
        "\n",
        "In this problem, we are using [Heart Failure Prediction](https://www.kaggle.com/andrewmvd/heart-failure-clinical-data) dataset.\n",
        "from Kaggle.\n",
        "The dataset has the below set of 12 features and a target variable :\n",
        "\n",
        "- age: Age of the patient\n",
        "- amaemia: Decrease of red blood cells or hemoglobin\n",
        "- creatinine_phosphokinase: Level of the CPK enzyme in the blood (mcg/L)\n",
        "- diabetes: If the patient has diabetes\n",
        "- ejection_fraction: Percentage of blood leaving the heart at each contraction\n",
        "- high_blood_pressure: If the patient has hypertension\n",
        "- platelets: Platelets in the blood (kiloplatelets/mL)\n",
        "- serum_creatinine: Level of serum creatinine in the blood (mg/dL)\n",
        "- serum_sodium: Level of serum sodium in the blood (mEq/L)\n",
        "- sex: Woman or man\n",
        "- smoking: If the patient smokes or not\n",
        "- time: Follow-up period (days)\n",
        "- DEATH_EVENT - If the patient deceased during the follow-up period (boolean)"
      ],
      "metadata": {}
    },
    {
      "cell_type": "code",
      "source": [
        "ws = Workspace.from_config()\n",
        "\n",
        "# choose a name for experiment\n",
        "experiment_name = 'heart-failure-prediction-experiment'\n",
        "\n",
        "experiment=Experiment(ws, experiment_name)\n",
        "\n",
        "print('Workspace name: ' + ws.name, \n",
        "      'Azure region: ' + ws.location, \n",
        "      'Subscription id: ' + ws.subscription_id, \n",
        "      'Resource group: ' + ws.resource_group, sep = '\\n')\n",
        "\n",
        "run = experiment.start_logging()"
      ],
      "outputs": [
        {
          "output_type": "stream",
          "name": "stdout",
          "text": [
            "Workspace name: udacity-azure-ml\n",
            "Azure region: eastus2\n",
            "Subscription id: 7292cf53-4607-42aa-ae5d-bbb29bb79c07\n",
            "Resource group: udacity-azure-ml\n"
          ]
        }
      ],
      "execution_count": 3,
      "metadata": {
        "gather": {
          "logged": 1630653938813
        },
        "jupyter": {
          "outputs_hidden": false,
          "source_hidden": false
        },
        "nteract": {
          "transient": {
            "deleting": false
          }
        }
      }
    },
    {
      "cell_type": "code",
      "source": [
        "# Checking for any existing compute targets\n",
        "\n",
        "compute_targets= ws.compute_targets\n",
        "\n",
        "for name, ct in compute_targets.items():\n",
        "    print(name, ct.type, ct.provisioning_state)"
      ],
      "outputs": [
        {
          "output_type": "stream",
          "name": "stdout",
          "text": [
            "azure-ml-capstone ComputeInstance Succeeded\n"
          ]
        }
      ],
      "execution_count": 5,
      "metadata": {
        "collapsed": true,
        "jupyter": {
          "source_hidden": false,
          "outputs_hidden": false
        },
        "nteract": {
          "transient": {
            "deleting": false
          }
        },
        "gather": {
          "logged": 1630654343529
        }
      }
    },
    {
      "cell_type": "code",
      "source": [
        "# Create compute cluster\n",
        "compute_cluster_name= \"automl-compute\"\n",
        "\n",
        "# Check if compute cluster already exists, else create new Compute Cluster\n",
        "try:\n",
        "    compute_cluster=ComputeTarget(workspace=ws, name=compute_cluster_name)\n",
        "    print(\"Found existing cluster, using it\")\n",
        "except ComputeTargetException:\n",
        "    print(\"Creating new cluster\")\n",
        "    compute_config = AmlCompute.provisioning_configuration(vm_size='STANDARD_D2_V2',max_nodes=5)\n",
        "    compute_cluster = ComputeTarget.create(ws, compute_cluster_name, compute_config)\n",
        "    \n",
        "compute_cluster.wait_for_completion(show_output=True)"
      ],
      "outputs": [
        {
          "output_type": "stream",
          "name": "stdout",
          "text": [
            "Creating new cluster\n",
            "InProgress.......\n",
            "SucceededProvisioning operation finished, operation \"Succeeded\"\n",
            "Succeeded\n",
            "AmlCompute wait for completion finished\n",
            "\n",
            "Minimum number of nodes requested have been provisioned\n"
          ]
        }
      ],
      "execution_count": 6,
      "metadata": {
        "collapsed": true,
        "jupyter": {
          "source_hidden": false,
          "outputs_hidden": false
        },
        "nteract": {
          "transient": {
            "deleting": false
          }
        },
        "gather": {
          "logged": 1630654443272
        }
      }
    },
    {
      "cell_type": "markdown",
      "source": [
        "## Importing Dataset"
      ],
      "metadata": {
        "nteract": {
          "transient": {
            "deleting": false
          }
        }
      }
    },
    {
      "cell_type": "code",
      "source": [
        "from azureml.data.dataset_factory import TabularDatasetFactory\n",
        "\n",
        "# Heart Failure Prediction dataset has been added to my GitHub repo which can be accessed here :\n",
        "# https://github.com/saivarunk/udacity-ml-azure-capstone-project/blob/master/dataset/heart_failure_clinical_records_dataset.csv\n",
        "\n",
        "path_to_data = \"https://raw.githubusercontent.com/saivarunk/udacity-ml-azure-capstone-project/master/dataset/heart_failure_clinical_records_dataset.csv\"\n",
        "\n",
        "data = TabularDatasetFactory.from_delimited_files(path=path_to_data)"
      ],
      "outputs": [],
      "execution_count": 9,
      "metadata": {
        "collapsed": true,
        "jupyter": {
          "source_hidden": false,
          "outputs_hidden": false
        },
        "nteract": {
          "transient": {
            "deleting": false
          }
        },
        "gather": {
          "logged": 1630654597604
        }
      }
    },
    {
      "cell_type": "code",
      "source": [
        "data = data.to_pandas_dataframe()\n",
        "\n",
        "# Drop 'DEATH_EVENT' from main dataset\n",
        "x = data.drop('DEATH_EVENT',axis=1)\n",
        "# Create y from 'DEATH_EVENT'\n",
        "y = data['DEATH_EVENT']\n",
        "\n",
        "# Split dataset into train and test splits\n",
        "x_train, x_test, y_train, y_test= train_test_split(x, y, test_size=0.20)\n",
        "\n",
        "# concatenate to form train and test datasets \n",
        "train_df = pd.concat([x_train, y_train], axis=1)\n",
        "test_df = pd.concat([x_test, y_test], axis=1)\n",
        "\n",
        "train_df.head()"
      ],
      "outputs": [
        {
          "output_type": "execute_result",
          "execution_count": 11,
          "data": {
            "text/plain": "      age  anaemia  creatinine_phosphokinase  diabetes  ejection_fraction  \\\n2    65.0        0                       146         0                 20   \n271  51.0        0                       582         1                 40   \n181  59.0        1                       176         1                 25   \n224  58.0        0                       582         1                 25   \n12   45.0        1                       981         0                 30   \n\n     high_blood_pressure  platelets  serum_creatinine  serum_sodium  sex  \\\n2                      0   162000.0               1.3           129    1   \n271                    0   221000.0               0.9           134    0   \n181                    0   221000.0               1.0           136    1   \n224                    0   504000.0               1.0           138    1   \n12                     0   136000.0               1.1           137    1   \n\n     smoking  time  DEATH_EVENT  \n2          1     7            1  \n271        0   244            0  \n181        1   150            1  \n224        0   205            0  \n12         0    11            1  ",
            "text/html": "<div>\n<style scoped>\n    .dataframe tbody tr th:only-of-type {\n        vertical-align: middle;\n    }\n\n    .dataframe tbody tr th {\n        vertical-align: top;\n    }\n\n    .dataframe thead th {\n        text-align: right;\n    }\n</style>\n<table border=\"1\" class=\"dataframe\">\n  <thead>\n    <tr style=\"text-align: right;\">\n      <th></th>\n      <th>age</th>\n      <th>anaemia</th>\n      <th>creatinine_phosphokinase</th>\n      <th>diabetes</th>\n      <th>ejection_fraction</th>\n      <th>high_blood_pressure</th>\n      <th>platelets</th>\n      <th>serum_creatinine</th>\n      <th>serum_sodium</th>\n      <th>sex</th>\n      <th>smoking</th>\n      <th>time</th>\n      <th>DEATH_EVENT</th>\n    </tr>\n  </thead>\n  <tbody>\n    <tr>\n      <th>2</th>\n      <td>65.0</td>\n      <td>0</td>\n      <td>146</td>\n      <td>0</td>\n      <td>20</td>\n      <td>0</td>\n      <td>162000.0</td>\n      <td>1.3</td>\n      <td>129</td>\n      <td>1</td>\n      <td>1</td>\n      <td>7</td>\n      <td>1</td>\n    </tr>\n    <tr>\n      <th>271</th>\n      <td>51.0</td>\n      <td>0</td>\n      <td>582</td>\n      <td>1</td>\n      <td>40</td>\n      <td>0</td>\n      <td>221000.0</td>\n      <td>0.9</td>\n      <td>134</td>\n      <td>0</td>\n      <td>0</td>\n      <td>244</td>\n      <td>0</td>\n    </tr>\n    <tr>\n      <th>181</th>\n      <td>59.0</td>\n      <td>1</td>\n      <td>176</td>\n      <td>1</td>\n      <td>25</td>\n      <td>0</td>\n      <td>221000.0</td>\n      <td>1.0</td>\n      <td>136</td>\n      <td>1</td>\n      <td>1</td>\n      <td>150</td>\n      <td>1</td>\n    </tr>\n    <tr>\n      <th>224</th>\n      <td>58.0</td>\n      <td>0</td>\n      <td>582</td>\n      <td>1</td>\n      <td>25</td>\n      <td>0</td>\n      <td>504000.0</td>\n      <td>1.0</td>\n      <td>138</td>\n      <td>1</td>\n      <td>0</td>\n      <td>205</td>\n      <td>0</td>\n    </tr>\n    <tr>\n      <th>12</th>\n      <td>45.0</td>\n      <td>1</td>\n      <td>981</td>\n      <td>0</td>\n      <td>30</td>\n      <td>0</td>\n      <td>136000.0</td>\n      <td>1.1</td>\n      <td>137</td>\n      <td>1</td>\n      <td>0</td>\n      <td>11</td>\n      <td>1</td>\n    </tr>\n  </tbody>\n</table>\n</div>"
          },
          "metadata": {}
        }
      ],
      "execution_count": 11,
      "metadata": {
        "collapsed": true,
        "jupyter": {
          "source_hidden": false,
          "outputs_hidden": false
        },
        "nteract": {
          "transient": {
            "deleting": false
          }
        },
        "gather": {
          "logged": 1630654736426
        }
      }
    },
    {
      "cell_type": "code",
      "source": [
        "# Store dataframe as .csv and upload to datastore\n",
        "if not os.path.isdir('data'):\n",
        "    os.mkdir('data')\n",
        "\n",
        "pd.DataFrame(train_df).to_csv(\"data/train_data.csv\", index=False)\n",
        "pd.DataFrame(test_df).to_csv(\"data/test_data.csv\", index=False)\n",
        "\n",
        "ds = ws.get_default_datastore()\n",
        "ds.upload(src_dir='./data', target_path='heart-failure', overwrite=True, show_progress=True)"
      ],
      "outputs": [
        {
          "output_type": "stream",
          "name": "stdout",
          "text": [
            "Uploading an estimated of 2 files\n",
            "Uploading ./data/test_data.csv\n",
            "Uploaded ./data/test_data.csv, 1 files out of an estimated total of 2\n",
            "Uploading ./data/train_data.csv\n",
            "Uploaded ./data/train_data.csv, 2 files out of an estimated total of 2\n",
            "Uploaded 2 files\n"
          ]
        },
        {
          "output_type": "execute_result",
          "execution_count": 13,
          "data": {
            "text/plain": "$AZUREML_DATAREFERENCE_06197ca57113463dae885aa69ac0c9ff"
          },
          "metadata": {}
        }
      ],
      "execution_count": 13,
      "metadata": {
        "collapsed": true,
        "jupyter": {
          "source_hidden": false,
          "outputs_hidden": false
        },
        "nteract": {
          "transient": {
            "deleting": false
          }
        },
        "gather": {
          "logged": 1630654898377
        }
      }
    },
    {
      "cell_type": "code",
      "source": [
        "train_data = Dataset.Tabular.from_delimited_files(path=ds.path('heart-failure/train_data.csv'))"
      ],
      "outputs": [],
      "execution_count": 14,
      "metadata": {
        "collapsed": true,
        "jupyter": {
          "source_hidden": false,
          "outputs_hidden": false
        },
        "nteract": {
          "transient": {
            "deleting": false
          }
        },
        "gather": {
          "logged": 1630654915041
        }
      }
    },
    {
      "cell_type": "markdown",
      "source": [
        "## AutoML Configuration\n",
        "\n",
        "TODO: Explain why you chose the automl settings and cofiguration you used below."
      ],
      "metadata": {}
    },
    {
      "cell_type": "code",
      "source": [
        "# AutoML settings\n",
        "automl_settings = {\n",
        "    \"task\": \"classification\",\n",
        "    \"debug_log\": 'automl_errors.log',\n",
        "    \"training_data\": train_data,\n",
        "    \"label_column_name\": 'DEATH_EVENT',\n",
        "    \"compute_target\": compute_cluster,\n",
        "    \"enable_early_stopping\" : True,\n",
        "    \"experiment_timeout_minutes\": 30,\n",
        "    \"n_cross_validations\": 4,\n",
        "    \"featurization\": 'auto',\n",
        "    \"primary_metric\": 'accuracy',\n",
        "    \"verbosity\": logging.INFO\n",
        "}\n",
        "\n",
        "# AutoML config initialization\n",
        "automl_config = AutoMLConfig(**automl_settings)"
      ],
      "outputs": [],
      "execution_count": 16,
      "metadata": {
        "gather": {
          "logged": 1630655004930
        },
        "jupyter": {
          "outputs_hidden": false,
          "source_hidden": false
        },
        "nteract": {
          "transient": {
            "deleting": false
          }
        }
      }
    },
    {
      "cell_type": "code",
      "source": [
        "# Submit your experiment\n",
        "remote_run = experiment.submit(automl_config)"
      ],
      "outputs": [
        {
          "output_type": "stream",
          "name": "stdout",
          "text": [
            "Submitting remote run.\n"
          ]
        },
        {
          "output_type": "display_data",
          "data": {
            "text/plain": "<IPython.core.display.HTML object>",
            "text/html": "<table style=\"width:100%\"><tr><th>Experiment</th><th>Id</th><th>Type</th><th>Status</th><th>Details Page</th><th>Docs Page</th></tr><tr><td>heart-failure-prediction-experiment</td><td>AutoML_76b54900-9e91-44d7-9865-7b545508a74f</td><td>automl</td><td>NotStarted</td><td><a href=\"https://ml.azure.com/runs/AutoML_76b54900-9e91-44d7-9865-7b545508a74f?wsid=/subscriptions/7292cf53-4607-42aa-ae5d-bbb29bb79c07/resourcegroups/udacity-azure-ml/workspaces/udacity-azure-ml&amp;tid=6f4ead32-2680-469c-991a-2b4d707c6cc9\" target=\"_blank\" rel=\"noopener\">Link to Azure Machine Learning studio</a></td><td><a href=\"https://docs.microsoft.com/en-us/python/api/overview/azure/ml/intro?view=azure-ml-py\" target=\"_blank\" rel=\"noopener\">Link to Documentation</a></td></tr></table>"
          },
          "metadata": {}
        }
      ],
      "execution_count": 17,
      "metadata": {
        "gather": {
          "logged": 1630655026109
        },
        "jupyter": {
          "outputs_hidden": false,
          "source_hidden": false
        },
        "nteract": {
          "transient": {
            "deleting": false
          }
        }
      }
    },
    {
      "cell_type": "markdown",
      "source": [
        "## Run Details\n",
        "\n",
        "OPTIONAL: Write about the different models trained and their performance. Why do you think some models did better than others?\n",
        "\n",
        "TODO: In the cell below, use the `RunDetails` widget to show the different experiments."
      ],
      "metadata": {}
    },
    {
      "cell_type": "code",
      "source": [
        "RunDetails(remote_run).show()"
      ],
      "outputs": [
        {
          "output_type": "display_data",
          "data": {
            "text/plain": "_AutoMLWidget(widget_settings={'childWidgetDisplay': 'popup', 'send_telemetry': False, 'log_level': 'INFO', 's…",
            "application/vnd.jupyter.widget-view+json": {
              "version_major": 2,
              "version_minor": 0,
              "model_id": "c3b26f63b8a7451797ece59ae1ba85c2"
            }
          },
          "metadata": {}
        },
        {
          "output_type": "display_data",
          "data": {
            "application/aml.mini.widget.v1": "{\"status\": \"Completed\", \"workbench_run_details_uri\": \"https://ml.azure.com/runs/AutoML_76b54900-9e91-44d7-9865-7b545508a74f?wsid=/subscriptions/7292cf53-4607-42aa-ae5d-bbb29bb79c07/resourcegroups/udacity-azure-ml/workspaces/udacity-azure-ml&tid=6f4ead32-2680-469c-991a-2b4d707c6cc9\", \"run_id\": \"AutoML_76b54900-9e91-44d7-9865-7b545508a74f\", \"run_properties\": {\"run_id\": \"AutoML_76b54900-9e91-44d7-9865-7b545508a74f\", \"created_utc\": \"2021-09-03T07:43:45.33552Z\", \"properties\": {\"num_iterations\": \"1000\", \"training_type\": \"TrainFull\", \"acquisition_function\": \"EI\", \"primary_metric\": \"accuracy\", \"train_split\": \"0\", \"acquisition_parameter\": \"0\", \"num_cross_validation\": \"4\", \"target\": \"automl-compute\", \"AMLSettingsJsonString\": \"{\\\"path\\\":null,\\\"name\\\":\\\"heart-failure-prediction-experiment\\\",\\\"subscription_id\\\":\\\"7292cf53-4607-42aa-ae5d-bbb29bb79c07\\\",\\\"resource_group\\\":\\\"udacity-azure-ml\\\",\\\"workspace_name\\\":\\\"udacity-azure-ml\\\",\\\"region\\\":\\\"eastus2\\\",\\\"compute_target\\\":\\\"automl-compute\\\",\\\"spark_service\\\":null,\\\"azure_service\\\":\\\"remote\\\",\\\"many_models\\\":false,\\\"pipeline_fetch_max_batch_size\\\":1,\\\"enable_batch_run\\\":false,\\\"enable_run_restructure\\\":false,\\\"start_auxiliary_runs_before_parent_complete\\\":false,\\\"enable_code_generation\\\":false,\\\"iterations\\\":1000,\\\"primary_metric\\\":\\\"accuracy\\\",\\\"task_type\\\":\\\"classification\\\",\\\"data_script\\\":null,\\\"test_size\\\":0.0,\\\"validation_size\\\":0.0,\\\"n_cross_validations\\\":4,\\\"y_min\\\":null,\\\"y_max\\\":null,\\\"num_classes\\\":null,\\\"featurization\\\":\\\"auto\\\",\\\"_ignore_package_version_incompatibilities\\\":false,\\\"is_timeseries\\\":false,\\\"max_cores_per_iteration\\\":1,\\\"max_concurrent_iterations\\\":1,\\\"iteration_timeout_minutes\\\":null,\\\"mem_in_mb\\\":null,\\\"enforce_time_on_windows\\\":false,\\\"experiment_timeout_minutes\\\":30,\\\"experiment_exit_score\\\":null,\\\"whitelist_models\\\":null,\\\"blacklist_algos\\\":[\\\"TensorFlowLinearClassifier\\\",\\\"TensorFlowDNN\\\"],\\\"supported_models\\\":[\\\"MultinomialNaiveBayes\\\",\\\"SVM\\\",\\\"SGD\\\",\\\"BernoulliNaiveBayes\\\",\\\"LightGBM\\\",\\\"XGBoostClassifier\\\",\\\"TensorFlowLinearClassifier\\\",\\\"KNN\\\",\\\"GradientBoosting\\\",\\\"TensorFlowDNN\\\",\\\"LinearSVM\\\",\\\"DecisionTree\\\",\\\"LogisticRegression\\\",\\\"AveragedPerceptronClassifier\\\",\\\"RandomForest\\\",\\\"ExtremeRandomTrees\\\"],\\\"private_models\\\":[],\\\"auto_blacklist\\\":true,\\\"blacklist_samples_reached\\\":false,\\\"exclude_nan_labels\\\":true,\\\"verbosity\\\":20,\\\"_debug_log\\\":\\\"azureml_automl.log\\\",\\\"show_warnings\\\":false,\\\"model_explainability\\\":true,\\\"service_url\\\":null,\\\"sdk_url\\\":null,\\\"sdk_packages\\\":null,\\\"enable_onnx_compatible_models\\\":false,\\\"enable_split_onnx_featurizer_estimator_models\\\":false,\\\"vm_type\\\":\\\"STANDARD_D2_V2\\\",\\\"telemetry_verbosity\\\":20,\\\"send_telemetry\\\":true,\\\"enable_dnn\\\":false,\\\"scenario\\\":\\\"SDK-1.13.0\\\",\\\"environment_label\\\":null,\\\"save_mlflow\\\":false,\\\"force_text_dnn\\\":false,\\\"enable_feature_sweeping\\\":true,\\\"enable_early_stopping\\\":true,\\\"early_stopping_n_iters\\\":10,\\\"metrics\\\":null,\\\"enable_metric_confidence\\\":false,\\\"enable_ensembling\\\":true,\\\"enable_stack_ensembling\\\":true,\\\"ensemble_iterations\\\":15,\\\"enable_tf\\\":false,\\\"enable_subsampling\\\":null,\\\"subsample_seed\\\":null,\\\"enable_nimbusml\\\":false,\\\"enable_streaming\\\":false,\\\"force_streaming\\\":false,\\\"track_child_runs\\\":true,\\\"allowed_private_models\\\":[],\\\"label_column_name\\\":\\\"DEATH_EVENT\\\",\\\"weight_column_name\\\":null,\\\"cv_split_column_names\\\":null,\\\"enable_local_managed\\\":false,\\\"_local_managed_run_id\\\":null,\\\"cost_mode\\\":1,\\\"lag_length\\\":0,\\\"metric_operation\\\":\\\"maximize\\\",\\\"preprocess\\\":true}\", \"DataPrepJsonString\": \"{\\\\\\\"training_data\\\\\\\": {\\\\\\\"datasetId\\\\\\\": \\\\\\\"bfc832ff-1f43-40ea-8f42-c702835fe5f0\\\\\\\"}, \\\\\\\"datasets\\\\\\\": 0}\", \"EnableSubsampling\": null, \"runTemplate\": \"AutoML\", \"azureml.runsource\": \"automl\", \"display_task_type\": \"classification\", \"dependencies_versions\": \"{\\\"azureml-widgets\\\": \\\"1.33.0\\\", \\\"azureml-train\\\": \\\"1.33.0\\\", \\\"azureml-train-restclients-hyperdrive\\\": \\\"1.33.0\\\", \\\"azureml-train-core\\\": \\\"1.33.0\\\", \\\"azureml-train-automl\\\": \\\"1.33.0\\\", \\\"azureml-train-automl-runtime\\\": \\\"1.33.0\\\", \\\"azureml-train-automl-client\\\": \\\"1.33.0\\\", \\\"azureml-tensorboard\\\": \\\"1.33.0\\\", \\\"azureml-telemetry\\\": \\\"1.33.0\\\", \\\"azureml-sdk\\\": \\\"1.33.0\\\", \\\"azureml-samples\\\": \\\"0+unknown\\\", \\\"azureml-responsibleai\\\": \\\"1.33.0\\\", \\\"azureml-pipeline\\\": \\\"1.33.0\\\", \\\"azureml-pipeline-steps\\\": \\\"1.33.0\\\", \\\"azureml-pipeline-core\\\": \\\"1.33.0\\\", \\\"azureml-opendatasets\\\": \\\"1.33.0\\\", \\\"azureml-mlflow\\\": \\\"1.33.0\\\", \\\"azureml-interpret\\\": \\\"1.33.0\\\", \\\"azureml-explain-model\\\": \\\"1.33.0\\\", \\\"azureml-defaults\\\": \\\"1.33.0\\\", \\\"azureml-dataset-runtime\\\": \\\"1.33.0\\\", \\\"azureml-dataprep\\\": \\\"2.20.1\\\", \\\"azureml-dataprep-rslex\\\": \\\"1.18.0\\\", \\\"azureml-dataprep-native\\\": \\\"38.0.0\\\", \\\"azureml-datadrift\\\": \\\"1.33.0\\\", \\\"azureml-core\\\": \\\"1.33.0\\\", \\\"azureml-contrib-services\\\": \\\"1.33.0\\\", \\\"azureml-contrib-server\\\": \\\"1.33.0\\\", \\\"azureml-contrib-reinforcementlearning\\\": \\\"1.33.0\\\", \\\"azureml-contrib-pipeline-steps\\\": \\\"1.33.0\\\", \\\"azureml-contrib-notebook\\\": \\\"1.33.0\\\", \\\"azureml-contrib-fairness\\\": \\\"1.33.0\\\", \\\"azureml-contrib-dataset\\\": \\\"1.33.0\\\", \\\"azureml-cli-common\\\": \\\"1.33.0\\\", \\\"azureml-automl-runtime\\\": \\\"1.33.0\\\", \\\"azureml-automl-dnn-nlp\\\": \\\"1.33.0\\\", \\\"azureml-automl-core\\\": \\\"1.33.0\\\", \\\"azureml-accel-models\\\": \\\"1.33.0\\\"}\", \"_aml_system_scenario_identification\": \"Remote.Parent\", \"ClientType\": \"SDK\", \"environment_cpu_name\": \"AzureML-AutoML\", \"environment_cpu_label\": \"prod\", \"environment_gpu_name\": \"AzureML-AutoML-GPU\", \"environment_gpu_label\": \"prod\", \"root_attribution\": \"automl\", \"attribution\": \"AutoML\", \"Orchestrator\": \"AutoML\", \"CancelUri\": \"https://eastus2.api.azureml.ms/jasmine/v1.0/subscriptions/7292cf53-4607-42aa-ae5d-bbb29bb79c07/resourceGroups/udacity-azure-ml/providers/Microsoft.MachineLearningServices/workspaces/udacity-azure-ml/experimentids/9fc53095-62fd-4865-9df5-21aee4047e36/cancel/AutoML_76b54900-9e91-44d7-9865-7b545508a74f\", \"ClientSdkVersion\": \"1.33.1.post1\", \"snapshotId\": \"00000000-0000-0000-0000-000000000000\", \"SetupRunId\": \"AutoML_76b54900-9e91-44d7-9865-7b545508a74f_setup\", \"SetupRunContainerId\": \"dcid.AutoML_76b54900-9e91-44d7-9865-7b545508a74f_setup\", \"FeaturizationRunJsonPath\": \"featurizer_container.json\", \"FeaturizationRunId\": \"AutoML_76b54900-9e91-44d7-9865-7b545508a74f_featurize\", \"ProblemInfoJsonString\": \"{\\\"dataset_num_categorical\\\": 0, \\\"is_sparse\\\": false, \\\"subsampling\\\": false, \\\"has_extra_col\\\": true, \\\"dataset_classes\\\": 2, \\\"dataset_features\\\": 12, \\\"dataset_samples\\\": 239, \\\"single_frequency_class_detected\\\": false}\", \"ModelExplainRunId\": \"AutoML_76b54900-9e91-44d7-9865-7b545508a74f_ModelExplain\"}, \"tags\": {\"model_explain_run\": \"best_run\", \"_aml_system_azureml.automlComponent\": \"AutoML\", \"pipeline_id\": \"\", \"score\": \"\", \"predicted_cost\": \"\", \"fit_time\": \"\", \"training_percent\": \"\", \"iteration\": \"\", \"run_preprocessor\": \"\", \"run_algorithm\": \"\", \"dynamic_whitelisting_iterations\": \"<25>;\", \"automl_best_child_run_id\": \"AutoML_76b54900-9e91-44d7-9865-7b545508a74f_28\", \"model_explain_best_run_child_id\": \"AutoML_76b54900-9e91-44d7-9865-7b545508a74f_28\"}, \"end_time_utc\": \"2021-09-03T08:32:41.474628Z\", \"status\": \"Completed\", \"log_files\": {}, \"log_groups\": [], \"run_duration\": \"0:48:56\", \"run_number\": \"2\", \"run_queued_details\": {\"status\": \"Completed\", \"details\": null}}, \"child_runs\": [{\"run_id\": \"AutoML_76b54900-9e91-44d7-9865-7b545508a74f_0\", \"run_number\": 6, \"metric\": null, \"status\": \"Completed\", \"run_type\": \"azureml.scriptrun\", \"training_percent\": \"100\", \"start_time\": \"2021-09-03T07:59:16.915872Z\", \"end_time\": \"2021-09-03T08:00:12.300451Z\", \"created_time\": \"2021-09-03T07:59:08.089473Z\", \"created_time_dt\": \"2021-09-03T07:59:08.089473Z\", \"duration\": \"0:01:04\", \"iteration\": \"0\", \"goal\": \"accuracy_max\", \"run_name\": \"MaxAbsScaler, LightGBM\", \"run_properties\": \"copy=True\", \"primary_metric\": 0.79067797, \"best_metric\": 0.79067797}, {\"run_id\": \"AutoML_76b54900-9e91-44d7-9865-7b545508a74f_1\", \"run_number\": 7, \"metric\": null, \"status\": \"Completed\", \"run_type\": \"azureml.scriptrun\", \"training_percent\": \"100\", \"start_time\": \"2021-09-03T08:00:20.665918Z\", \"end_time\": \"2021-09-03T08:01:15.76969Z\", \"created_time\": \"2021-09-03T08:00:13.015416Z\", \"created_time_dt\": \"2021-09-03T08:00:13.015416Z\", \"duration\": \"0:01:02\", \"iteration\": \"1\", \"goal\": \"accuracy_max\", \"run_name\": \"MaxAbsScaler, XGBoostClassifier\", \"run_properties\": \"copy=True\", \"primary_metric\": 0.80324859, \"best_metric\": 0.80324859}, {\"run_id\": \"AutoML_76b54900-9e91-44d7-9865-7b545508a74f_2\", \"run_number\": 8, \"metric\": null, \"status\": \"Completed\", \"run_type\": \"azureml.scriptrun\", \"training_percent\": \"100\", \"start_time\": \"2021-09-03T08:01:23.158854Z\", \"end_time\": \"2021-09-03T08:02:19.938412Z\", \"created_time\": \"2021-09-03T08:01:16.886132Z\", \"created_time_dt\": \"2021-09-03T08:01:16.886132Z\", \"duration\": \"0:01:03\", \"iteration\": \"2\", \"goal\": \"accuracy_max\", \"run_name\": \"MaxAbsScaler, ExtremeRandomTrees\", \"run_properties\": \"copy=True\", \"primary_metric\": 0.81158192, \"best_metric\": 0.81158192}, {\"run_id\": \"AutoML_76b54900-9e91-44d7-9865-7b545508a74f_3\", \"run_number\": 9, \"metric\": null, \"status\": \"Completed\", \"run_type\": \"azureml.scriptrun\", \"training_percent\": \"100\", \"start_time\": \"2021-09-03T08:02:29.982249Z\", \"end_time\": \"2021-09-03T08:03:25.816741Z\", \"created_time\": \"2021-09-03T08:02:23.760999Z\", \"created_time_dt\": \"2021-09-03T08:02:23.760999Z\", \"duration\": \"0:01:02\", \"iteration\": \"3\", \"goal\": \"accuracy_max\", \"run_name\": \"SparseNormalizer, XGBoostClassifier\", \"run_properties\": \"copy=True, norm='l2'\", \"primary_metric\": 0.77824859, \"best_metric\": 0.81158192}, {\"run_id\": \"AutoML_76b54900-9e91-44d7-9865-7b545508a74f_4\", \"run_number\": 10, \"metric\": null, \"status\": \"Completed\", \"run_type\": \"azureml.scriptrun\", \"training_percent\": \"100\", \"start_time\": \"2021-09-03T08:03:40.286111Z\", \"end_time\": \"2021-09-03T08:04:33.566258Z\", \"created_time\": \"2021-09-03T08:03:30.897208Z\", \"created_time_dt\": \"2021-09-03T08:03:30.897208Z\", \"duration\": \"0:01:02\", \"iteration\": \"4\", \"goal\": \"accuracy_max\", \"run_name\": \"StandardScalerWrapper, KNN\", \"run_properties\": \"\\n    copy=True,\\n    with_mean=False,\\n    with_std=False\\n\", \"primary_metric\": 0.56892655, \"best_metric\": 0.81158192}, {\"run_id\": \"AutoML_76b54900-9e91-44d7-9865-7b545508a74f_5\", \"run_number\": 11, \"metric\": null, \"status\": \"Completed\", \"run_type\": \"azureml.scriptrun\", \"training_percent\": \"100\", \"start_time\": \"2021-09-03T08:04:43.160119Z\", \"end_time\": \"2021-09-03T08:05:39.122979Z\", \"created_time\": \"2021-09-03T08:04:37.292831Z\", \"created_time_dt\": \"2021-09-03T08:04:37.292831Z\", \"duration\": \"0:01:01\", \"iteration\": \"5\", \"goal\": \"accuracy_max\", \"run_name\": \"MaxAbsScaler, LightGBM\", \"run_properties\": \"copy=True\", \"primary_metric\": 0.81998588, \"best_metric\": 0.81998588}, {\"run_id\": \"AutoML_76b54900-9e91-44d7-9865-7b545508a74f_6\", \"run_number\": 12, \"metric\": null, \"status\": \"Completed\", \"run_type\": \"azureml.scriptrun\", \"training_percent\": \"100\", \"start_time\": \"2021-09-03T08:05:49.914374Z\", \"end_time\": \"2021-09-03T08:06:43.952357Z\", \"created_time\": \"2021-09-03T08:05:40.664372Z\", \"created_time_dt\": \"2021-09-03T08:05:40.664372Z\", \"duration\": \"0:01:03\", \"iteration\": \"6\", \"goal\": \"accuracy_max\", \"run_name\": \"RobustScaler, LogisticRegression\", \"run_properties\": \"copy=True, quantile_range=[10, 90], with_centering=True,\\n             with_scaling=True\", \"primary_metric\": 0.77803672, \"best_metric\": 0.81998588}, {\"run_id\": \"AutoML_76b54900-9e91-44d7-9865-7b545508a74f_7\", \"run_number\": 13, \"metric\": null, \"status\": \"Completed\", \"run_type\": \"azureml.scriptrun\", \"training_percent\": \"100\", \"start_time\": \"2021-09-03T08:06:57.251388Z\", \"end_time\": \"2021-09-03T08:07:52.190222Z\", \"created_time\": \"2021-09-03T08:06:49.679321Z\", \"created_time_dt\": \"2021-09-03T08:06:49.679321Z\", \"duration\": \"0:01:02\", \"iteration\": \"7\", \"goal\": \"accuracy_max\", \"run_name\": \"MaxAbsScaler, LightGBM\", \"run_properties\": \"copy=True\", \"primary_metric\": 0.81158192, \"best_metric\": 0.81998588}, {\"run_id\": \"AutoML_76b54900-9e91-44d7-9865-7b545508a74f_8\", \"run_number\": 14, \"metric\": null, \"status\": \"Completed\", \"run_type\": \"azureml.scriptrun\", \"training_percent\": \"100\", \"start_time\": \"2021-09-03T08:08:04.845282Z\", \"end_time\": \"2021-09-03T08:08:59.206193Z\", \"created_time\": \"2021-09-03T08:07:54.071937Z\", \"created_time_dt\": \"2021-09-03T08:07:54.071937Z\", \"duration\": \"0:01:05\", \"iteration\": \"8\", \"goal\": \"accuracy_max\", \"run_name\": \"StandardScalerWrapper, KNN\", \"run_properties\": \"\\n    copy=True,\\n    with_mean=False,\\n    with_std=False\\n\", \"primary_metric\": 0.59392655, \"best_metric\": 0.81998588}, {\"run_id\": \"AutoML_76b54900-9e91-44d7-9865-7b545508a74f_9\", \"run_number\": 15, \"metric\": null, \"status\": \"Completed\", \"run_type\": \"azureml.scriptrun\", \"training_percent\": \"100\", \"start_time\": \"2021-09-03T08:09:06.847874Z\", \"end_time\": \"2021-09-03T08:10:02.590886Z\", \"created_time\": \"2021-09-03T08:09:00.856608Z\", \"created_time_dt\": \"2021-09-03T08:09:00.856608Z\", \"duration\": \"0:01:01\", \"iteration\": \"9\", \"goal\": \"accuracy_max\", \"run_name\": \"StandardScalerWrapper, SVM\", \"run_properties\": \"\\n    copy=True,\\n    with_mean=True,\\n    with_std=True\\n\", \"primary_metric\": 0.74484463, \"best_metric\": 0.81998588}, {\"run_id\": \"AutoML_76b54900-9e91-44d7-9865-7b545508a74f_10\", \"run_number\": 16, \"metric\": null, \"status\": \"Completed\", \"run_type\": \"azureml.scriptrun\", \"training_percent\": \"100\", \"start_time\": \"2021-09-03T08:10:16.417653Z\", \"end_time\": \"2021-09-03T08:11:09.493686Z\", \"created_time\": \"2021-09-03T08:10:04.347164Z\", \"created_time_dt\": \"2021-09-03T08:10:04.347164Z\", \"duration\": \"0:01:05\", \"iteration\": \"10\", \"goal\": \"accuracy_max\", \"run_name\": \"StandardScalerWrapper, XGBoostClassifier\", \"run_properties\": \"\\n    copy=True,\\n    with_mean=False,\\n    with_std=False\\n\", \"primary_metric\": 0.77817797, \"best_metric\": 0.81998588}, {\"run_id\": \"AutoML_76b54900-9e91-44d7-9865-7b545508a74f_11\", \"run_number\": 17, \"metric\": null, \"status\": \"Completed\", \"run_type\": \"azureml.scriptrun\", \"training_percent\": \"100\", \"start_time\": \"2021-09-03T08:11:18.045205Z\", \"end_time\": \"2021-09-03T08:12:12.995147Z\", \"created_time\": \"2021-09-03T08:11:11.261389Z\", \"created_time_dt\": \"2021-09-03T08:11:11.261389Z\", \"duration\": \"0:01:01\", \"iteration\": \"11\", \"goal\": \"accuracy_max\", \"run_name\": \"MinMaxScaler, RandomForest\", \"run_properties\": \"copy=True, feature_range=(0, 1\", \"primary_metric\": 0.81158192, \"best_metric\": 0.81998588}, {\"run_id\": \"AutoML_76b54900-9e91-44d7-9865-7b545508a74f_12\", \"run_number\": 18, \"metric\": null, \"status\": \"Completed\", \"run_type\": \"azureml.scriptrun\", \"training_percent\": \"100\", \"start_time\": \"2021-09-03T08:12:21.561749Z\", \"end_time\": \"2021-09-03T08:13:18.890373Z\", \"created_time\": \"2021-09-03T08:12:14.603681Z\", \"created_time_dt\": \"2021-09-03T08:12:14.603681Z\", \"duration\": \"0:01:04\", \"iteration\": \"12\", \"goal\": \"accuracy_max\", \"run_name\": \"StandardScalerWrapper, LogisticRegression\", \"run_properties\": \"\\n    copy=True,\\n    with_mean=True,\\n    with_std=False\\n\", \"primary_metric\": 0.74053672, \"best_metric\": 0.81998588}, {\"run_id\": \"AutoML_76b54900-9e91-44d7-9865-7b545508a74f_13\", \"run_number\": 19, \"metric\": null, \"status\": \"Completed\", \"run_type\": \"azureml.scriptrun\", \"training_percent\": \"100\", \"start_time\": \"2021-09-03T08:13:31.390329Z\", \"end_time\": \"2021-09-03T08:14:23.623613Z\", \"created_time\": \"2021-09-03T08:13:21.902261Z\", \"created_time_dt\": \"2021-09-03T08:13:21.902261Z\", \"duration\": \"0:01:01\", \"iteration\": \"13\", \"goal\": \"accuracy_max\", \"run_name\": \"StandardScalerWrapper, KNN\", \"run_properties\": \"\\n    copy=True,\\n    with_mean=False,\\n    with_std=True\\n\", \"primary_metric\": 0.70720339, \"best_metric\": 0.81998588}, {\"run_id\": \"AutoML_76b54900-9e91-44d7-9865-7b545508a74f_14\", \"run_number\": 20, \"metric\": null, \"status\": \"Completed\", \"run_type\": \"azureml.scriptrun\", \"training_percent\": \"100\", \"start_time\": \"2021-09-03T08:14:38.060064Z\", \"end_time\": \"2021-09-03T08:15:28.288956Z\", \"created_time\": \"2021-09-03T08:14:25.484465Z\", \"created_time_dt\": \"2021-09-03T08:14:25.484465Z\", \"duration\": \"0:01:02\", \"iteration\": \"14\", \"goal\": \"accuracy_max\", \"run_name\": \"RobustScaler, KNN\", \"run_properties\": \"copy=True, quantile_range=[10, 90], with_centering=False,\\n             with_scaling=True\", \"primary_metric\": 0.71963277, \"best_metric\": 0.81998588}, {\"run_id\": \"AutoML_76b54900-9e91-44d7-9865-7b545508a74f_15\", \"run_number\": 21, \"metric\": null, \"status\": \"Completed\", \"run_type\": \"azureml.scriptrun\", \"training_percent\": \"100\", \"start_time\": \"2021-09-03T08:15:37.626852Z\", \"end_time\": \"2021-09-03T08:16:32.155065Z\", \"created_time\": \"2021-09-03T08:15:29.894038Z\", \"created_time_dt\": \"2021-09-03T08:15:29.894038Z\", \"duration\": \"0:01:02\", \"iteration\": \"15\", \"goal\": \"accuracy_max\", \"run_name\": \"MinMaxScaler, KNN\", \"run_properties\": \"copy=True, feature_range=(0, 1\", \"primary_metric\": 0.70289548, \"best_metric\": 0.81998588}, {\"run_id\": \"AutoML_76b54900-9e91-44d7-9865-7b545508a74f_16\", \"run_number\": 22, \"metric\": null, \"status\": \"Completed\", \"run_type\": \"azureml.scriptrun\", \"training_percent\": \"100\", \"start_time\": \"2021-09-03T08:16:44.234807Z\", \"end_time\": \"2021-09-03T08:17:38.621856Z\", \"created_time\": \"2021-09-03T08:16:33.953086Z\", \"created_time_dt\": \"2021-09-03T08:16:33.953086Z\", \"duration\": \"0:01:04\", \"iteration\": \"16\", \"goal\": \"accuracy_max\", \"run_name\": \"SparseNormalizer, KNN\", \"run_properties\": \"copy=True, norm='max'\", \"primary_metric\": 0.7450565, \"best_metric\": 0.81998588}, {\"run_id\": \"AutoML_76b54900-9e91-44d7-9865-7b545508a74f_17\", \"run_number\": 23, \"metric\": null, \"status\": \"Completed\", \"run_type\": \"azureml.scriptrun\", \"training_percent\": \"100\", \"start_time\": \"2021-09-03T08:17:47.897414Z\", \"end_time\": \"2021-09-03T08:18:42.74833Z\", \"created_time\": \"2021-09-03T08:17:40.246698Z\", \"created_time_dt\": \"2021-09-03T08:17:40.246698Z\", \"duration\": \"0:01:02\", \"iteration\": \"17\", \"goal\": \"accuracy_max\", \"run_name\": \"MaxAbsScaler, LogisticRegression\", \"run_properties\": \"copy=True\", \"primary_metric\": 0.80734463, \"best_metric\": 0.81998588}, {\"run_id\": \"AutoML_76b54900-9e91-44d7-9865-7b545508a74f_18\", \"run_number\": 24, \"metric\": null, \"status\": \"Completed\", \"run_type\": \"azureml.scriptrun\", \"training_percent\": \"100\", \"start_time\": \"2021-09-03T08:18:49.251616Z\", \"end_time\": \"2021-09-03T08:19:47.488337Z\", \"created_time\": \"2021-09-03T08:18:44.295318Z\", \"created_time_dt\": \"2021-09-03T08:18:44.295318Z\", \"duration\": \"0:01:03\", \"iteration\": \"18\", \"goal\": \"accuracy_max\", \"run_name\": \"StandardScalerWrapper, XGBoostClassifier\", \"run_properties\": \"\\n    copy=True,\\n    with_mean=False,\\n    with_std=False\\n\", \"primary_metric\": 0.80324859, \"best_metric\": 0.81998588}, {\"run_id\": \"AutoML_76b54900-9e91-44d7-9865-7b545508a74f_19\", \"run_number\": 25, \"metric\": null, \"status\": \"Completed\", \"run_type\": \"azureml.scriptrun\", \"training_percent\": \"100\", \"start_time\": \"2021-09-03T08:19:58.070366Z\", \"end_time\": \"2021-09-03T08:20:55.083833Z\", \"created_time\": \"2021-09-03T08:19:52.897269Z\", \"created_time_dt\": \"2021-09-03T08:19:52.897269Z\", \"duration\": \"0:01:02\", \"iteration\": \"19\", \"goal\": \"accuracy_max\", \"run_name\": \"StandardScalerWrapper, XGBoostClassifier\", \"run_properties\": \"\\n    copy=True,\\n    with_mean=False,\\n    with_std=False\\n\", \"primary_metric\": 0.80331921, \"best_metric\": 0.81998588}, {\"run_id\": \"AutoML_76b54900-9e91-44d7-9865-7b545508a74f_20\", \"run_number\": 26, \"metric\": null, \"status\": \"Completed\", \"run_type\": \"azureml.scriptrun\", \"training_percent\": \"100\", \"start_time\": \"2021-09-03T08:21:04.480929Z\", \"end_time\": \"2021-09-03T08:22:00.346725Z\", \"created_time\": \"2021-09-03T08:20:56.829074Z\", \"created_time_dt\": \"2021-09-03T08:20:56.829074Z\", \"duration\": \"0:01:03\", \"iteration\": \"20\", \"goal\": \"accuracy_max\", \"run_name\": \"MaxAbsScaler, LogisticRegression\", \"run_properties\": \"copy=True\", \"primary_metric\": 0.82415254, \"best_metric\": 0.82415254}, {\"run_id\": \"AutoML_76b54900-9e91-44d7-9865-7b545508a74f_21\", \"run_number\": 27, \"metric\": null, \"status\": \"Completed\", \"run_type\": \"azureml.scriptrun\", \"training_percent\": \"100\", \"start_time\": \"2021-09-03T08:22:06.124856Z\", \"end_time\": \"2021-09-03T08:23:04.272981Z\", \"created_time\": \"2021-09-03T08:22:01.964193Z\", \"created_time_dt\": \"2021-09-03T08:22:01.964193Z\", \"duration\": \"0:01:02\", \"iteration\": \"21\", \"goal\": \"accuracy_max\", \"run_name\": \"StandardScalerWrapper, XGBoostClassifier\", \"run_properties\": \"\\n    copy=True,\\n    with_mean=False,\\n    with_std=False\\n\", \"primary_metric\": 0.82422316, \"best_metric\": 0.82422316}, {\"run_id\": \"AutoML_76b54900-9e91-44d7-9865-7b545508a74f_22\", \"run_number\": 28, \"metric\": null, \"status\": \"Completed\", \"run_type\": \"azureml.scriptrun\", \"training_percent\": \"100\", \"start_time\": \"2021-09-03T08:23:11.923551Z\", \"end_time\": \"2021-09-03T08:24:08.734669Z\", \"created_time\": \"2021-09-03T08:23:05.674889Z\", \"created_time_dt\": \"2021-09-03T08:23:05.674889Z\", \"duration\": \"0:01:03\", \"iteration\": \"22\", \"goal\": \"accuracy_max\", \"run_name\": \"RobustScaler, RandomForest\", \"run_properties\": \"copy=True, quantile_range=[10, 90], with_centering=True,\\n             with_scaling=True\", \"primary_metric\": 0.81998588, \"best_metric\": 0.82422316}, {\"run_id\": \"AutoML_76b54900-9e91-44d7-9865-7b545508a74f_23\", \"run_number\": 29, \"metric\": null, \"status\": \"Completed\", \"run_type\": \"azureml.scriptrun\", \"training_percent\": \"100\", \"start_time\": \"2021-09-03T08:24:19.342672Z\", \"end_time\": \"2021-09-03T08:25:13.28094Z\", \"created_time\": \"2021-09-03T08:24:10.285181Z\", \"created_time_dt\": \"2021-09-03T08:24:10.285181Z\", \"duration\": \"0:01:02\", \"iteration\": \"23\", \"goal\": \"accuracy_max\", \"run_name\": \"SparseNormalizer, XGBoostClassifier\", \"run_properties\": \"copy=True, norm='l1'\", \"primary_metric\": 0.82443503, \"best_metric\": 0.82443503}, {\"run_id\": \"AutoML_76b54900-9e91-44d7-9865-7b545508a74f_24\", \"run_number\": 30, \"metric\": null, \"status\": \"Completed\", \"run_type\": \"azureml.scriptrun\", \"training_percent\": \"100\", \"start_time\": \"2021-09-03T08:25:20.972546Z\", \"end_time\": \"2021-09-03T08:26:17.261472Z\", \"created_time\": \"2021-09-03T08:25:15.052469Z\", \"created_time_dt\": \"2021-09-03T08:25:15.052469Z\", \"duration\": \"0:01:02\", \"iteration\": \"24\", \"goal\": \"accuracy_max\", \"run_name\": \"SparseNormalizer, XGBoostClassifier\", \"run_properties\": \"copy=True, norm='l1'\", \"primary_metric\": 0.81193503, \"best_metric\": 0.82443503}, {\"run_id\": \"AutoML_76b54900-9e91-44d7-9865-7b545508a74f_25\", \"run_number\": 31, \"metric\": null, \"status\": \"Completed\", \"run_type\": \"azureml.scriptrun\", \"training_percent\": \"100\", \"start_time\": \"2021-09-03T08:26:29.905443Z\", \"end_time\": \"2021-09-03T08:27:22.396222Z\", \"created_time\": \"2021-09-03T08:26:19.981084Z\", \"created_time_dt\": \"2021-09-03T08:26:19.981084Z\", \"duration\": \"0:01:02\", \"iteration\": \"25\", \"goal\": \"accuracy_max\", \"run_name\": \"PCA, XGBoostClassifier\", \"run_properties\": \"copy=True, iterated_power='auto', n_components=0.8015789473684211,\\n    random_state=None, svd_solver='auto', tol=0.0, whiten=False\", \"primary_metric\": 0.66094633, \"best_metric\": 0.82443503}, {\"run_id\": \"AutoML_76b54900-9e91-44d7-9865-7b545508a74f_26\", \"run_number\": 32, \"metric\": null, \"status\": \"Completed\", \"run_type\": \"azureml.scriptrun\", \"training_percent\": \"100\", \"start_time\": \"2021-09-03T08:27:30.446401Z\", \"end_time\": \"2021-09-03T08:28:27.605983Z\", \"created_time\": \"2021-09-03T08:27:24.238512Z\", \"created_time_dt\": \"2021-09-03T08:27:24.238512Z\", \"duration\": \"0:01:03\", \"iteration\": \"26\", \"goal\": \"accuracy_max\", \"run_name\": \"MinMaxScaler, RandomForest\", \"run_properties\": \"copy=True, feature_range=(0, 1\", \"primary_metric\": 0.81158192, \"best_metric\": 0.82443503}, {\"run_id\": \"AutoML_76b54900-9e91-44d7-9865-7b545508a74f_27\", \"run_number\": 33, \"metric\": null, \"status\": \"Completed\", \"run_type\": \"azureml.scriptrun\", \"training_percent\": \"100\", \"start_time\": \"2021-09-03T08:28:37.286618Z\", \"end_time\": \"2021-09-03T08:29:32.818204Z\", \"created_time\": \"2021-09-03T08:28:29.216742Z\", \"created_time_dt\": \"2021-09-03T08:28:29.216742Z\", \"duration\": \"0:01:03\", \"iteration\": \"27\", \"goal\": \"accuracy_max\", \"run_name\": \"MinMaxScaler, LightGBM\", \"run_properties\": \"copy=True, feature_range=(0, 1\", \"primary_metric\": 0.76137006, \"best_metric\": 0.82443503}, {\"run_id\": \"AutoML_76b54900-9e91-44d7-9865-7b545508a74f_28\", \"run_number\": 34, \"metric\": null, \"status\": \"Completed\", \"run_type\": \"azureml.scriptrun\", \"training_percent\": \"100\", \"start_time\": \"2021-09-03T08:29:44.767025Z\", \"end_time\": \"2021-09-03T08:30:37.123382Z\", \"created_time\": \"2021-09-03T08:29:33.723969Z\", \"created_time_dt\": \"2021-09-03T08:29:33.723969Z\", \"duration\": \"0:01:03\", \"iteration\": \"28\", \"goal\": \"accuracy_max\", \"run_name\": \"VotingEnsemble\", \"run_properties\": \"\\n    estimators=[('23', Pipeline(\\n        memory=None,\\n        steps=[('sparsenormalizer', Normalizer(\\n            copy=True,\\n            norm='l1'\\n        \", \"primary_metric\": 0.86603107, \"best_metric\": 0.86603107}, {\"run_id\": \"AutoML_76b54900-9e91-44d7-9865-7b545508a74f_29\", \"run_number\": 35, \"metric\": null, \"status\": \"Completed\", \"run_type\": \"azureml.scriptrun\", \"training_percent\": \"100\", \"start_time\": \"2021-09-03T08:30:48.413481Z\", \"end_time\": \"2021-09-03T08:32:40.07333Z\", \"created_time\": \"2021-09-03T08:30:37.868721Z\", \"created_time_dt\": \"2021-09-03T08:30:37.868721Z\", \"duration\": \"0:02:02\", \"iteration\": \"29\", \"goal\": \"accuracy_max\", \"run_name\": \"StackEnsemble\", \"run_properties\": \"\\n    base_learners=[('23', Pipeline(\\n        memory=None,\\n        steps=[('sparsenormalizer', Normalizer(\\n            copy=True,\\n            norm='l1'\\n        \", \"primary_metric\": 0.81186441, \"best_metric\": 0.86603107}], \"children_metrics\": {\"categories\": [0], \"series\": {\"weighted_accuracy\": [{\"categories\": [\"0\", \"1\", \"2\", \"3\", \"4\", \"5\", \"6\", \"7\", \"8\", \"9\", \"10\", \"11\", \"12\", \"13\", \"14\", \"15\", \"16\", \"17\", \"18\", \"19\", \"20\", \"21\", \"22\", \"23\", \"24\", \"25\", \"26\", \"27\", \"28\", \"29\"], \"mode\": \"markers\", \"name\": \"weighted_accuracy\", \"stepped\": false, \"type\": \"scatter\", \"data\": [0.8010103159118269, 0.8140150414435356, 0.8190701149902445, 0.8150221747132163, 0.6211882325266027, 0.8503255635352235, 0.7771713230105027, 0.8551503798414214, 0.6561606957532483, 0.7861019552492841, 0.8091969363609945, 0.8124675508876804, 0.7257610666002464, 0.8022530338882201, 0.7733328144242877, 0.7731300939571312, 0.7938155728063986, 0.8283180082195193, 0.8349215063583655, 0.8267999225095826, 0.8426883293896246, 0.853293723276184, 0.8334941259496035, 0.8468501529051988, 0.8270058948067582, 0.7827774087757897, 0.8333099132384076, 0.8131689775416165, 0.893753788036033, 0.8359332752155202]}, {\"categories\": [\"0\", \"1\", \"2\", \"3\", \"4\", \"5\", \"6\", \"7\", \"8\", \"9\", \"10\", \"11\", \"12\", \"13\", \"14\", \"15\", \"16\", \"17\", \"18\", \"19\", \"20\", \"21\", \"22\", \"23\", \"24\", \"25\", \"26\", \"27\", \"28\", \"29\"], \"mode\": \"lines\", \"name\": \"weighted_accuracy_max\", \"stepped\": true, \"type\": \"scatter\", \"data\": [0.8010103159118269, 0.8140150414435356, 0.8190701149902445, 0.8190701149902445, 0.8190701149902445, 0.8503255635352235, 0.8503255635352235, 0.8551503798414214, 0.8551503798414214, 0.8551503798414214, 0.8551503798414214, 0.8551503798414214, 0.8551503798414214, 0.8551503798414214, 0.8551503798414214, 0.8551503798414214, 0.8551503798414214, 0.8551503798414214, 0.8551503798414214, 0.8551503798414214, 0.8551503798414214, 0.8551503798414214, 0.8551503798414214, 0.8551503798414214, 0.8551503798414214, 0.8551503798414214, 0.8551503798414214, 0.8551503798414214, 0.893753788036033, 0.893753788036033]}], \"accuracy\": [{\"categories\": [\"0\", \"1\", \"2\", \"3\", \"4\", \"5\", \"6\", \"7\", \"8\", \"9\", \"10\", \"11\", \"12\", \"13\", \"14\", \"15\", \"16\", \"17\", \"18\", \"19\", \"20\", \"21\", \"22\", \"23\", \"24\", \"25\", \"26\", \"27\", \"28\", \"29\"], \"mode\": \"markers\", \"name\": \"accuracy\", \"stepped\": false, \"type\": \"scatter\", \"data\": [0.7906779661016949, 0.8032485875706216, 0.8115819209039549, 0.7782485875706214, 0.5689265536723164, 0.8199858757062147, 0.7780367231638418, 0.8115819209039549, 0.5939265536723164, 0.7448446327683615, 0.778177966101695, 0.8115819209039549, 0.7405367231638418, 0.7072033898305085, 0.719632768361582, 0.7028954802259886, 0.7450564971751412, 0.8073446327683615, 0.8032485875706215, 0.803319209039548, 0.8241525423728814, 0.8242231638418079, 0.8199858757062147, 0.8244350282485875, 0.8119350282485875, 0.6609463276836158, 0.8115819209039549, 0.761370056497175, 0.8660310734463277, 0.811864406779661]}, {\"categories\": [\"0\", \"1\", \"2\", \"3\", \"4\", \"5\", \"6\", \"7\", \"8\", \"9\", \"10\", \"11\", \"12\", \"13\", \"14\", \"15\", \"16\", \"17\", \"18\", \"19\", \"20\", \"21\", \"22\", \"23\", \"24\", \"25\", \"26\", \"27\", \"28\", \"29\"], \"mode\": \"lines\", \"name\": \"accuracy_max\", \"stepped\": true, \"type\": \"scatter\", \"data\": [0.7906779661016949, 0.8032485875706216, 0.8115819209039549, 0.8115819209039549, 0.8115819209039549, 0.8199858757062147, 0.8199858757062147, 0.8199858757062147, 0.8199858757062147, 0.8199858757062147, 0.8199858757062147, 0.8199858757062147, 0.8199858757062147, 0.8199858757062147, 0.8199858757062147, 0.8199858757062147, 0.8199858757062147, 0.8199858757062147, 0.8199858757062147, 0.8199858757062147, 0.8241525423728814, 0.8242231638418079, 0.8242231638418079, 0.8244350282485875, 0.8244350282485875, 0.8244350282485875, 0.8244350282485875, 0.8244350282485875, 0.8660310734463277, 0.8660310734463277]}], \"norm_macro_recall\": [{\"categories\": [\"0\", \"1\", \"2\", \"3\", \"4\", \"5\", \"6\", \"7\", \"8\", \"9\", \"10\", \"11\", \"12\", \"13\", \"14\", \"15\", \"16\", \"17\", \"18\", \"19\", \"20\", \"21\", \"22\", \"23\", \"24\", \"25\", \"26\", \"27\", \"28\", \"29\"], \"mode\": \"markers\", \"name\": \"norm_macro_recall\", \"stepped\": false, \"type\": \"scatter\", \"data\": [0.5655183592683592, 0.5903306715806715, 0.6099610974610974, 0.47026003276003275, 0.0222222222222222, 0.5737305487305487, 0.5646908271908272, 0.523732254982255, 0.033333333333333326, 0.3819307944307944, 0.48780883155883153, 0.629405541905542, 0.5251074938574938, 0.17929292929292928, 0.30415813540813547, 0.2280251842751843, 0.37171375921375926, 0.5689905814905816, 0.5373669123669124, 0.5577583265083266, 0.6079443079443081, 0.5850941850941851, 0.6151429838929838, 0.5993004368004368, 0.5927962052962052, 0.0, 0.5778306715806716, 0.40283579033579037, 0.668492355992356, 0.573353467103467]}, {\"categories\": [\"0\", \"1\", \"2\", \"3\", \"4\", \"5\", \"6\", \"7\", \"8\", \"9\", \"10\", \"11\", \"12\", \"13\", \"14\", \"15\", \"16\", \"17\", \"18\", \"19\", \"20\", \"21\", \"22\", \"23\", \"24\", \"25\", \"26\", \"27\", \"28\", \"29\"], \"mode\": \"lines\", \"name\": \"norm_macro_recall_max\", \"stepped\": true, \"type\": \"scatter\", \"data\": [0.5655183592683592, 0.5903306715806715, 0.6099610974610974, 0.6099610974610974, 0.6099610974610974, 0.6099610974610974, 0.6099610974610974, 0.6099610974610974, 0.6099610974610974, 0.6099610974610974, 0.6099610974610974, 0.629405541905542, 0.629405541905542, 0.629405541905542, 0.629405541905542, 0.629405541905542, 0.629405541905542, 0.629405541905542, 0.629405541905542, 0.629405541905542, 0.629405541905542, 0.629405541905542, 0.629405541905542, 0.629405541905542, 0.629405541905542, 0.629405541905542, 0.629405541905542, 0.629405541905542, 0.668492355992356, 0.668492355992356]}], \"matthews_correlation\": [{\"categories\": [\"0\", \"1\", \"2\", \"3\", \"4\", \"5\", \"6\", \"7\", \"8\", \"9\", \"10\", \"11\", \"12\", \"13\", \"14\", \"15\", \"16\", \"17\", \"18\", \"19\", \"20\", \"21\", \"22\", \"23\", \"24\", \"25\", \"26\", \"27\", \"28\", \"29\"], \"mode\": \"markers\", \"name\": \"matthews_correlation\", \"stepped\": false, \"type\": \"scatter\", \"data\": [0.5617492445256056, 0.5912962200576878, 0.6037934565960079, 0.499628243338191, -0.003715860127296855, 0.6103183614765183, 0.541691979400167, 0.5949432539145617, 0.030060784012839466, 0.4244227927268863, 0.5080818697391913, 0.6095688603906664, 0.49105548259033555, 0.22760581257399967, 0.345910170652294, 0.2862030859272549, 0.4045191011142858, 0.5854011865924205, 0.5673193934297813, 0.5701916400913092, 0.6193444519619091, 0.6200565757316756, 0.6173231493818554, 0.6207275624524291, 0.5940764005722584, 0.0, 0.5942648748953551, 0.464691369330393, 0.7128900301749486, 0.599081497226295]}, {\"categories\": [\"0\", \"1\", \"2\", \"3\", \"4\", \"5\", \"6\", \"7\", \"8\", \"9\", \"10\", \"11\", \"12\", \"13\", \"14\", \"15\", \"16\", \"17\", \"18\", \"19\", \"20\", \"21\", \"22\", \"23\", \"24\", \"25\", \"26\", \"27\", \"28\", \"29\"], \"mode\": \"lines\", \"name\": \"matthews_correlation_max\", \"stepped\": true, \"type\": \"scatter\", \"data\": [0.5617492445256056, 0.5912962200576878, 0.6037934565960079, 0.6037934565960079, 0.6037934565960079, 0.6103183614765183, 0.6103183614765183, 0.6103183614765183, 0.6103183614765183, 0.6103183614765183, 0.6103183614765183, 0.6103183614765183, 0.6103183614765183, 0.6103183614765183, 0.6103183614765183, 0.6103183614765183, 0.6103183614765183, 0.6103183614765183, 0.6103183614765183, 0.6103183614765183, 0.6193444519619091, 0.6200565757316756, 0.6200565757316756, 0.6207275624524291, 0.6207275624524291, 0.6207275624524291, 0.6207275624524291, 0.6207275624524291, 0.7128900301749486, 0.7128900301749486]}], \"balanced_accuracy\": [{\"categories\": [\"0\", \"1\", \"2\", \"3\", \"4\", \"5\", \"6\", \"7\", \"8\", \"9\", \"10\", \"11\", \"12\", \"13\", \"14\", \"15\", \"16\", \"17\", \"18\", \"19\", \"20\", \"21\", \"22\", \"23\", \"24\", \"25\", \"26\", \"27\", \"28\", \"29\"], \"mode\": \"markers\", \"name\": \"balanced_accuracy\", \"stepped\": false, \"type\": \"scatter\", \"data\": [0.7827591796341797, 0.7951653357903358, 0.8049805487305487, 0.7351300163800164, 0.49797041359541355, 0.7868652743652744, 0.7823454135954135, 0.7618661274911275, 0.5081669737919738, 0.6909653972153972, 0.7439044157794158, 0.814702770952771, 0.7625537469287469, 0.5865214646464646, 0.6520790677040678, 0.6140125921375921, 0.6858568796068796, 0.7844952907452907, 0.7686834561834561, 0.7788791632541632, 0.803972153972154, 0.7925470925470925, 0.807571491946492, 0.7996502184002183, 0.7963981026481026, 0.5, 0.7889153357903357, 0.7014178951678951, 0.8342461779961781, 0.7866767335517335]}, {\"categories\": [\"0\", \"1\", \"2\", \"3\", \"4\", \"5\", \"6\", \"7\", \"8\", \"9\", \"10\", \"11\", \"12\", \"13\", \"14\", \"15\", \"16\", \"17\", \"18\", \"19\", \"20\", \"21\", \"22\", \"23\", \"24\", \"25\", \"26\", \"27\", \"28\", \"29\"], \"mode\": \"lines\", \"name\": \"balanced_accuracy_max\", \"stepped\": true, \"type\": \"scatter\", \"data\": [0.7827591796341797, 0.7951653357903358, 0.8049805487305487, 0.8049805487305487, 0.8049805487305487, 0.8049805487305487, 0.8049805487305487, 0.8049805487305487, 0.8049805487305487, 0.8049805487305487, 0.8049805487305487, 0.814702770952771, 0.814702770952771, 0.814702770952771, 0.814702770952771, 0.814702770952771, 0.814702770952771, 0.814702770952771, 0.814702770952771, 0.814702770952771, 0.814702770952771, 0.814702770952771, 0.814702770952771, 0.814702770952771, 0.814702770952771, 0.814702770952771, 0.814702770952771, 0.814702770952771, 0.8342461779961781, 0.8342461779961781]}], \"precision_score_micro\": [{\"categories\": [\"0\", \"1\", \"2\", \"3\", \"4\", \"5\", \"6\", \"7\", \"8\", \"9\", \"10\", \"11\", \"12\", \"13\", \"14\", \"15\", \"16\", \"17\", \"18\", \"19\", \"20\", \"21\", \"22\", \"23\", \"24\", \"25\", \"26\", \"27\", \"28\", \"29\"], \"mode\": \"markers\", \"name\": \"precision_score_micro\", \"stepped\": false, \"type\": \"scatter\", \"data\": [0.7906779661016949, 0.8032485875706216, 0.8115819209039549, 0.7782485875706214, 0.5689265536723164, 0.8199858757062147, 0.7780367231638418, 0.8115819209039549, 0.5939265536723164, 0.7448446327683615, 0.778177966101695, 0.8115819209039549, 0.7405367231638418, 0.7072033898305085, 0.719632768361582, 0.7028954802259886, 0.7450564971751412, 0.8073446327683615, 0.8032485875706215, 0.803319209039548, 0.8241525423728814, 0.8242231638418079, 0.8199858757062147, 0.8244350282485875, 0.8119350282485875, 0.6609463276836158, 0.8115819209039549, 0.761370056497175, 0.8660310734463277, 0.811864406779661]}, {\"categories\": [\"0\", \"1\", \"2\", \"3\", \"4\", \"5\", \"6\", \"7\", \"8\", \"9\", \"10\", \"11\", \"12\", \"13\", \"14\", \"15\", \"16\", \"17\", \"18\", \"19\", \"20\", \"21\", \"22\", \"23\", \"24\", \"25\", \"26\", \"27\", \"28\", \"29\"], \"mode\": \"lines\", \"name\": \"precision_score_micro_max\", \"stepped\": true, \"type\": \"scatter\", \"data\": [0.7906779661016949, 0.8032485875706216, 0.8115819209039549, 0.8115819209039549, 0.8115819209039549, 0.8199858757062147, 0.8199858757062147, 0.8199858757062147, 0.8199858757062147, 0.8199858757062147, 0.8199858757062147, 0.8199858757062147, 0.8199858757062147, 0.8199858757062147, 0.8199858757062147, 0.8199858757062147, 0.8199858757062147, 0.8199858757062147, 0.8199858757062147, 0.8199858757062147, 0.8241525423728814, 0.8242231638418079, 0.8242231638418079, 0.8244350282485875, 0.8244350282485875, 0.8244350282485875, 0.8244350282485875, 0.8244350282485875, 0.8660310734463277, 0.8660310734463277]}], \"AUC_micro\": [{\"categories\": [\"0\", \"1\", \"2\", \"3\", \"4\", \"5\", \"6\", \"7\", \"8\", \"9\", \"10\", \"11\", \"12\", \"13\", \"14\", \"15\", \"16\", \"17\", \"18\", \"19\", \"20\", \"21\", \"22\", \"23\", \"24\", \"25\", \"26\", \"27\", \"28\", \"29\"], \"mode\": \"markers\", \"name\": \"AUC_micro\", \"stepped\": false, \"type\": \"scatter\", \"data\": [0.8811218838775575, 0.8853639200102141, 0.8834301685339462, 0.8577481925691851, 0.6019809122538223, 0.8959420385266047, 0.8751585791120048, 0.8793786507708512, 0.6070473842127103, 0.827442236027323, 0.8725422332343835, 0.9026585591624373, 0.8254025423728814, 0.8192095183376424, 0.7793591001947078, 0.7630746871907816, 0.7885156723802227, 0.882864518497239, 0.8829250654345814, 0.8835939744326343, 0.8847187509974783, 0.892192617064062, 0.8736857125187525, 0.904216580484535, 0.8951822791981869, 0.6609463276836158, 0.8963646302148169, 0.8751935906029558, 0.9067878203900539, 0.8915794870567206]}, {\"categories\": [\"0\", \"1\", \"2\", \"3\", \"4\", \"5\", \"6\", \"7\", \"8\", \"9\", \"10\", \"11\", \"12\", \"13\", \"14\", \"15\", \"16\", \"17\", \"18\", \"19\", \"20\", \"21\", \"22\", \"23\", \"24\", \"25\", \"26\", \"27\", \"28\", \"29\"], \"mode\": \"lines\", \"name\": \"AUC_micro_max\", \"stepped\": true, \"type\": \"scatter\", \"data\": [0.8811218838775575, 0.8853639200102141, 0.8853639200102141, 0.8853639200102141, 0.8853639200102141, 0.8959420385266047, 0.8959420385266047, 0.8959420385266047, 0.8959420385266047, 0.8959420385266047, 0.8959420385266047, 0.9026585591624373, 0.9026585591624373, 0.9026585591624373, 0.9026585591624373, 0.9026585591624373, 0.9026585591624373, 0.9026585591624373, 0.9026585591624373, 0.9026585591624373, 0.9026585591624373, 0.9026585591624373, 0.9026585591624373, 0.904216580484535, 0.904216580484535, 0.904216580484535, 0.904216580484535, 0.904216580484535, 0.9067878203900539, 0.9067878203900539]}], \"f1_score_weighted\": [{\"categories\": [\"0\", \"1\", \"2\", \"3\", \"4\", \"5\", \"6\", \"7\", \"8\", \"9\", \"10\", \"11\", \"12\", \"13\", \"14\", \"15\", \"16\", \"17\", \"18\", \"19\", \"20\", \"21\", \"22\", \"23\", \"24\", \"25\", \"26\", \"27\", \"28\", \"29\"], \"mode\": \"markers\", \"name\": \"f1_score_weighted\", \"stepped\": false, \"type\": \"scatter\", \"data\": [0.7890609774898809, 0.8020839998254029, 0.8121210510933382, 0.7669155606278146, 0.5584123731874727, 0.8100517160373655, 0.7808260894615937, 0.7883615709154197, 0.572047127555602, 0.7304254731880606, 0.7683312687251529, 0.8138804859189586, 0.7476055872105323, 0.6208189974879876, 0.7001789757098543, 0.6652569774976701, 0.7229408028180979, 0.8024645157234935, 0.7899822857342897, 0.7957048566809645, 0.8210925243560714, 0.8147303363009382, 0.8167217498161254, 0.8186303024341643, 0.8074523377364852, 0.527398607748184, 0.805885351819526, 0.7283621875326248, 0.8584376790662731, 0.8010659132681277]}, {\"categories\": [\"0\", \"1\", \"2\", \"3\", \"4\", \"5\", \"6\", \"7\", \"8\", \"9\", \"10\", \"11\", \"12\", \"13\", \"14\", \"15\", \"16\", \"17\", \"18\", \"19\", \"20\", \"21\", \"22\", \"23\", \"24\", \"25\", \"26\", \"27\", \"28\", \"29\"], \"mode\": \"lines\", \"name\": \"f1_score_weighted_max\", \"stepped\": true, \"type\": \"scatter\", \"data\": [0.7890609774898809, 0.8020839998254029, 0.8121210510933382, 0.8121210510933382, 0.8121210510933382, 0.8121210510933382, 0.8121210510933382, 0.8121210510933382, 0.8121210510933382, 0.8121210510933382, 0.8121210510933382, 0.8138804859189586, 0.8138804859189586, 0.8138804859189586, 0.8138804859189586, 0.8138804859189586, 0.8138804859189586, 0.8138804859189586, 0.8138804859189586, 0.8138804859189586, 0.8210925243560714, 0.8210925243560714, 0.8210925243560714, 0.8210925243560714, 0.8210925243560714, 0.8210925243560714, 0.8210925243560714, 0.8210925243560714, 0.8584376790662731, 0.8584376790662731]}], \"f1_score_micro\": [{\"categories\": [\"0\", \"1\", \"2\", \"3\", \"4\", \"5\", \"6\", \"7\", \"8\", \"9\", \"10\", \"11\", \"12\", \"13\", \"14\", \"15\", \"16\", \"17\", \"18\", \"19\", \"20\", \"21\", \"22\", \"23\", \"24\", \"25\", \"26\", \"27\", \"28\", \"29\"], \"mode\": \"markers\", \"name\": \"f1_score_micro\", \"stepped\": false, \"type\": \"scatter\", \"data\": [0.7906779661016949, 0.8032485875706216, 0.8115819209039549, 0.7782485875706214, 0.5689265536723164, 0.8199858757062147, 0.7780367231638418, 0.8115819209039549, 0.5939265536723164, 0.7448446327683615, 0.778177966101695, 0.8115819209039549, 0.7405367231638418, 0.7072033898305085, 0.719632768361582, 0.7028954802259886, 0.7450564971751412, 0.8073446327683615, 0.8032485875706215, 0.803319209039548, 0.8241525423728814, 0.8242231638418079, 0.8199858757062147, 0.8244350282485875, 0.8119350282485875, 0.6609463276836158, 0.8115819209039549, 0.761370056497175, 0.8660310734463277, 0.811864406779661]}, {\"categories\": [\"0\", \"1\", \"2\", \"3\", \"4\", \"5\", \"6\", \"7\", \"8\", \"9\", \"10\", \"11\", \"12\", \"13\", \"14\", \"15\", \"16\", \"17\", \"18\", \"19\", \"20\", \"21\", \"22\", \"23\", \"24\", \"25\", \"26\", \"27\", \"28\", \"29\"], \"mode\": \"lines\", \"name\": \"f1_score_micro_max\", \"stepped\": true, \"type\": \"scatter\", \"data\": [0.7906779661016949, 0.8032485875706216, 0.8115819209039549, 0.8115819209039549, 0.8115819209039549, 0.8199858757062147, 0.8199858757062147, 0.8199858757062147, 0.8199858757062147, 0.8199858757062147, 0.8199858757062147, 0.8199858757062147, 0.8199858757062147, 0.8199858757062147, 0.8199858757062147, 0.8199858757062147, 0.8199858757062147, 0.8199858757062147, 0.8199858757062147, 0.8199858757062147, 0.8241525423728814, 0.8242231638418079, 0.8242231638418079, 0.8244350282485875, 0.8244350282485875, 0.8244350282485875, 0.8244350282485875, 0.8244350282485875, 0.8660310734463277, 0.8660310734463277]}], \"precision_score_macro\": [{\"categories\": [\"0\", \"1\", \"2\", \"3\", \"4\", \"5\", \"6\", \"7\", \"8\", \"9\", \"10\", \"11\", \"12\", \"13\", \"14\", \"15\", \"16\", \"17\", \"18\", \"19\", \"20\", \"21\", \"22\", \"23\", \"24\", \"25\", \"26\", \"27\", \"28\", \"29\"], \"mode\": \"markers\", \"name\": \"precision_score_macro\", \"stepped\": false, \"type\": \"scatter\", \"data\": [0.7823867712281218, 0.7999376917874959, 0.8003239535447353, 0.7680690836940836, 0.4983210678145744, 0.830079195388429, 0.7607754542550497, 0.8502183600713011, 0.5251030037214248, 0.7436768989031024, 0.7680723265752336, 0.7966740815989537, 0.7302038537925635, 0.5850355003566948, 0.699929447551475, 0.6845240457294028, 0.7235340205565068, 0.8044246874076784, 0.8043855815648682, 0.7948055061029895, 0.8175609709243967, 0.8340564275949616, 0.812849442923631, 0.8256747008569401, 0.8006511595327384, 0.3304731638418079, 0.8096644309637732, 0.7859490637377706, 0.8828543846028114, 0.821358743951812]}, {\"categories\": [\"0\", \"1\", \"2\", \"3\", \"4\", \"5\", \"6\", \"7\", \"8\", \"9\", \"10\", \"11\", \"12\", \"13\", \"14\", \"15\", \"16\", \"17\", \"18\", \"19\", \"20\", \"21\", \"22\", \"23\", \"24\", \"25\", \"26\", \"27\", \"28\", \"29\"], \"mode\": \"lines\", \"name\": \"precision_score_macro_max\", \"stepped\": true, \"type\": \"scatter\", \"data\": [0.7823867712281218, 0.7999376917874959, 0.8003239535447353, 0.8003239535447353, 0.8003239535447353, 0.830079195388429, 0.830079195388429, 0.8502183600713011, 0.8502183600713011, 0.8502183600713011, 0.8502183600713011, 0.8502183600713011, 0.8502183600713011, 0.8502183600713011, 0.8502183600713011, 0.8502183600713011, 0.8502183600713011, 0.8502183600713011, 0.8502183600713011, 0.8502183600713011, 0.8502183600713011, 0.8502183600713011, 0.8502183600713011, 0.8502183600713011, 0.8502183600713011, 0.8502183600713011, 0.8502183600713011, 0.8502183600713011, 0.8828543846028114, 0.8828543846028114]}], \"precision_score_weighted\": [{\"categories\": [\"0\", \"1\", \"2\", \"3\", \"4\", \"5\", \"6\", \"7\", \"8\", \"9\", \"10\", \"11\", \"12\", \"13\", \"14\", \"15\", \"16\", \"17\", \"18\", \"19\", \"20\", \"21\", \"22\", \"23\", \"24\", \"25\", \"26\", \"27\", \"28\", \"29\"], \"mode\": \"markers\", \"name\": \"precision_score_weighted\", \"stepped\": false, \"type\": \"scatter\", \"data\": [0.8133129329549782, 0.8293224508064329, 0.8264220942524191, 0.7849437677827508, 0.5539876496074428, 0.8407695917506643, 0.7989867621497375, 0.8433712498867035, 0.5705267550617684, 0.7655450944139122, 0.7893620218487187, 0.8324855895714922, 0.7815136940444486, 0.6161811286930211, 0.7234813447208178, 0.7030852634132748, 0.7438325670294008, 0.8210882142831242, 0.8161097545082001, 0.8149018503623542, 0.8344540949021367, 0.8450146008042339, 0.8362626771309177, 0.841878455502584, 0.8256287084718731, 0.44005555954546904, 0.8289954349471522, 0.789848305334169, 0.8794675308042582, 0.8367631242123339]}, {\"categories\": [\"0\", \"1\", \"2\", \"3\", \"4\", \"5\", \"6\", \"7\", \"8\", \"9\", \"10\", \"11\", \"12\", \"13\", \"14\", \"15\", \"16\", \"17\", \"18\", \"19\", \"20\", \"21\", \"22\", \"23\", \"24\", \"25\", \"26\", \"27\", \"28\", \"29\"], \"mode\": \"lines\", \"name\": \"precision_score_weighted_max\", \"stepped\": true, \"type\": \"scatter\", \"data\": [0.8133129329549782, 0.8293224508064329, 0.8293224508064329, 0.8293224508064329, 0.8293224508064329, 0.8407695917506643, 0.8407695917506643, 0.8433712498867035, 0.8433712498867035, 0.8433712498867035, 0.8433712498867035, 0.8433712498867035, 0.8433712498867035, 0.8433712498867035, 0.8433712498867035, 0.8433712498867035, 0.8433712498867035, 0.8433712498867035, 0.8433712498867035, 0.8433712498867035, 0.8433712498867035, 0.8450146008042339, 0.8450146008042339, 0.8450146008042339, 0.8450146008042339, 0.8450146008042339, 0.8450146008042339, 0.8450146008042339, 0.8794675308042582, 0.8794675308042582]}], \"recall_score_weighted\": [{\"categories\": [\"0\", \"1\", \"2\", \"3\", \"4\", \"5\", \"6\", \"7\", \"8\", \"9\", \"10\", \"11\", \"12\", \"13\", \"14\", \"15\", \"16\", \"17\", \"18\", \"19\", \"20\", \"21\", \"22\", \"23\", \"24\", \"25\", \"26\", \"27\", \"28\", \"29\"], \"mode\": \"markers\", \"name\": \"recall_score_weighted\", \"stepped\": false, \"type\": \"scatter\", \"data\": [0.7906779661016949, 0.8032485875706216, 0.8115819209039549, 0.7782485875706214, 0.5689265536723164, 0.8199858757062147, 0.7780367231638418, 0.8115819209039549, 0.5939265536723164, 0.7448446327683615, 0.778177966101695, 0.8115819209039549, 0.7405367231638418, 0.7072033898305085, 0.719632768361582, 0.7028954802259886, 0.7450564971751412, 0.8073446327683615, 0.8032485875706215, 0.803319209039548, 0.8241525423728814, 0.8242231638418079, 0.8199858757062147, 0.8244350282485875, 0.8119350282485875, 0.6609463276836158, 0.8115819209039549, 0.761370056497175, 0.8660310734463277, 0.811864406779661]}, {\"categories\": [\"0\", \"1\", \"2\", \"3\", \"4\", \"5\", \"6\", \"7\", \"8\", \"9\", \"10\", \"11\", \"12\", \"13\", \"14\", \"15\", \"16\", \"17\", \"18\", \"19\", \"20\", \"21\", \"22\", \"23\", \"24\", \"25\", \"26\", \"27\", \"28\", \"29\"], \"mode\": \"lines\", \"name\": \"recall_score_weighted_max\", \"stepped\": true, \"type\": \"scatter\", \"data\": [0.7906779661016949, 0.8032485875706216, 0.8115819209039549, 0.8115819209039549, 0.8115819209039549, 0.8199858757062147, 0.8199858757062147, 0.8199858757062147, 0.8199858757062147, 0.8199858757062147, 0.8199858757062147, 0.8199858757062147, 0.8199858757062147, 0.8199858757062147, 0.8199858757062147, 0.8199858757062147, 0.8199858757062147, 0.8199858757062147, 0.8199858757062147, 0.8199858757062147, 0.8241525423728814, 0.8242231638418079, 0.8242231638418079, 0.8244350282485875, 0.8244350282485875, 0.8244350282485875, 0.8244350282485875, 0.8244350282485875, 0.8660310734463277, 0.8660310734463277]}], \"recall_score_macro\": [{\"categories\": [\"0\", \"1\", \"2\", \"3\", \"4\", \"5\", \"6\", \"7\", \"8\", \"9\", \"10\", \"11\", \"12\", \"13\", \"14\", \"15\", \"16\", \"17\", \"18\", \"19\", \"20\", \"21\", \"22\", \"23\", \"24\", \"25\", \"26\", \"27\", \"28\", \"29\"], \"mode\": \"markers\", \"name\": \"recall_score_macro\", \"stepped\": false, \"type\": \"scatter\", \"data\": [0.7827591796341797, 0.7951653357903358, 0.8049805487305487, 0.7351300163800164, 0.49797041359541355, 0.7868652743652744, 0.7823454135954135, 0.7618661274911275, 0.5081669737919738, 0.6909653972153972, 0.7439044157794158, 0.814702770952771, 0.7625537469287469, 0.5865214646464646, 0.6520790677040678, 0.6140125921375921, 0.6858568796068796, 0.7844952907452907, 0.7686834561834561, 0.7788791632541632, 0.803972153972154, 0.7925470925470925, 0.807571491946492, 0.7996502184002183, 0.7963981026481026, 0.5, 0.7889153357903357, 0.7014178951678951, 0.8342461779961781, 0.7866767335517335]}, {\"categories\": [\"0\", \"1\", \"2\", \"3\", \"4\", \"5\", \"6\", \"7\", \"8\", \"9\", \"10\", \"11\", \"12\", \"13\", \"14\", \"15\", \"16\", \"17\", \"18\", \"19\", \"20\", \"21\", \"22\", \"23\", \"24\", \"25\", \"26\", \"27\", \"28\", \"29\"], \"mode\": \"lines\", \"name\": \"recall_score_macro_max\", \"stepped\": true, \"type\": \"scatter\", \"data\": [0.7827591796341797, 0.7951653357903358, 0.8049805487305487, 0.8049805487305487, 0.8049805487305487, 0.8049805487305487, 0.8049805487305487, 0.8049805487305487, 0.8049805487305487, 0.8049805487305487, 0.8049805487305487, 0.814702770952771, 0.814702770952771, 0.814702770952771, 0.814702770952771, 0.814702770952771, 0.814702770952771, 0.814702770952771, 0.814702770952771, 0.814702770952771, 0.814702770952771, 0.814702770952771, 0.814702770952771, 0.814702770952771, 0.814702770952771, 0.814702770952771, 0.814702770952771, 0.814702770952771, 0.8342461779961781, 0.8342461779961781]}], \"recall_score_micro\": [{\"categories\": [\"0\", \"1\", \"2\", \"3\", \"4\", \"5\", \"6\", \"7\", \"8\", \"9\", \"10\", \"11\", \"12\", \"13\", \"14\", \"15\", \"16\", \"17\", \"18\", \"19\", \"20\", \"21\", \"22\", \"23\", \"24\", \"25\", \"26\", \"27\", \"28\", \"29\"], \"mode\": \"markers\", \"name\": \"recall_score_micro\", \"stepped\": false, \"type\": \"scatter\", \"data\": [0.7906779661016949, 0.8032485875706216, 0.8115819209039549, 0.7782485875706214, 0.5689265536723164, 0.8199858757062147, 0.7780367231638418, 0.8115819209039549, 0.5939265536723164, 0.7448446327683615, 0.778177966101695, 0.8115819209039549, 0.7405367231638418, 0.7072033898305085, 0.719632768361582, 0.7028954802259886, 0.7450564971751412, 0.8073446327683615, 0.8032485875706215, 0.803319209039548, 0.8241525423728814, 0.8242231638418079, 0.8199858757062147, 0.8244350282485875, 0.8119350282485875, 0.6609463276836158, 0.8115819209039549, 0.761370056497175, 0.8660310734463277, 0.811864406779661]}, {\"categories\": [\"0\", \"1\", \"2\", \"3\", \"4\", \"5\", \"6\", \"7\", \"8\", \"9\", \"10\", \"11\", \"12\", \"13\", \"14\", \"15\", \"16\", \"17\", \"18\", \"19\", \"20\", \"21\", \"22\", \"23\", \"24\", \"25\", \"26\", \"27\", \"28\", \"29\"], \"mode\": \"lines\", \"name\": \"recall_score_micro_max\", \"stepped\": true, \"type\": \"scatter\", \"data\": [0.7906779661016949, 0.8032485875706216, 0.8115819209039549, 0.8115819209039549, 0.8115819209039549, 0.8199858757062147, 0.8199858757062147, 0.8199858757062147, 0.8199858757062147, 0.8199858757062147, 0.8199858757062147, 0.8199858757062147, 0.8199858757062147, 0.8199858757062147, 0.8199858757062147, 0.8199858757062147, 0.8199858757062147, 0.8199858757062147, 0.8199858757062147, 0.8199858757062147, 0.8241525423728814, 0.8242231638418079, 0.8242231638418079, 0.8244350282485875, 0.8244350282485875, 0.8244350282485875, 0.8244350282485875, 0.8244350282485875, 0.8660310734463277, 0.8660310734463277]}], \"average_precision_score_micro\": [{\"categories\": [\"0\", \"1\", \"2\", \"3\", \"4\", \"5\", \"6\", \"7\", \"8\", \"9\", \"10\", \"11\", \"12\", \"13\", \"14\", \"15\", \"16\", \"17\", \"18\", \"19\", \"20\", \"21\", \"22\", \"23\", \"24\", \"25\", \"26\", \"27\", \"28\", \"29\"], \"mode\": \"markers\", \"name\": \"average_precision_score_micro\", \"stepped\": false, \"type\": \"scatter\", \"data\": [0.8836201423586791, 0.8806802862687113, 0.8853770747972701, 0.8573192316749898, 0.6123782789377415, 0.8964759335450698, 0.8821923951803874, 0.8810577638864279, 0.6153953676336852, 0.8236592574066189, 0.8738225854155639, 0.8952502599929837, 0.8317238303042902, 0.8238305571144534, 0.773357170099517, 0.7508824568664506, 0.7856894460145405, 0.8894338168401749, 0.881661249313852, 0.8869523349646655, 0.891975905515147, 0.8875419565041411, 0.8637736889541097, 0.9080799766107824, 0.898407273406612, 0.6095823957036612, 0.8974558655725376, 0.8764072783283247, 0.9099731210667553, 0.8942279441184866]}, {\"categories\": [\"0\", \"1\", \"2\", \"3\", \"4\", \"5\", \"6\", \"7\", \"8\", \"9\", \"10\", \"11\", \"12\", \"13\", \"14\", \"15\", \"16\", \"17\", \"18\", \"19\", \"20\", \"21\", \"22\", \"23\", \"24\", \"25\", \"26\", \"27\", \"28\", \"29\"], \"mode\": \"lines\", \"name\": \"average_precision_score_micro_max\", \"stepped\": true, \"type\": \"scatter\", \"data\": [0.8836201423586791, 0.8836201423586791, 0.8853770747972701, 0.8853770747972701, 0.8853770747972701, 0.8964759335450698, 0.8964759335450698, 0.8964759335450698, 0.8964759335450698, 0.8964759335450698, 0.8964759335450698, 0.8964759335450698, 0.8964759335450698, 0.8964759335450698, 0.8964759335450698, 0.8964759335450698, 0.8964759335450698, 0.8964759335450698, 0.8964759335450698, 0.8964759335450698, 0.8964759335450698, 0.8964759335450698, 0.8964759335450698, 0.9080799766107824, 0.9080799766107824, 0.9080799766107824, 0.9080799766107824, 0.9080799766107824, 0.9099731210667553, 0.9099731210667553]}], \"average_precision_score_weighted\": [{\"categories\": [\"0\", \"1\", \"2\", \"3\", \"4\", \"5\", \"6\", \"7\", \"8\", \"9\", \"10\", \"11\", \"12\", \"13\", \"14\", \"15\", \"16\", \"17\", \"18\", \"19\", \"20\", \"21\", \"22\", \"23\", \"24\", \"25\", \"26\", \"27\", \"28\", \"29\"], \"mode\": \"markers\", \"name\": \"average_precision_score_weighted\", \"stepped\": false, \"type\": \"scatter\", \"data\": [0.8973697949249321, 0.8991487852398343, 0.8991410397392433, 0.8673786220290363, 0.6039480069264154, 0.911388578502511, 0.9021553245738093, 0.9122602036624974, 0.6022378605551992, 0.8245373099637259, 0.877861361247428, 0.912458876553261, 0.8805923065988733, 0.8452346803154319, 0.7691366391026521, 0.7452921016321119, 0.7796741219670165, 0.9028783205754427, 0.8957893121349761, 0.9002395925479388, 0.9037380221478034, 0.9016458472612141, 0.8796841420690875, 0.9205217546789728, 0.9075099063862223, 0.5582184637237064, 0.9076311279449889, 0.8954092239168849, 0.9288430563700901, 0.9200655944861992]}, {\"categories\": [\"0\", \"1\", \"2\", \"3\", \"4\", \"5\", \"6\", \"7\", \"8\", \"9\", \"10\", \"11\", \"12\", \"13\", \"14\", \"15\", \"16\", \"17\", \"18\", \"19\", \"20\", \"21\", \"22\", \"23\", \"24\", \"25\", \"26\", \"27\", \"28\", \"29\"], \"mode\": \"lines\", \"name\": \"average_precision_score_weighted_max\", \"stepped\": true, \"type\": \"scatter\", \"data\": [0.8973697949249321, 0.8991487852398343, 0.8991487852398343, 0.8991487852398343, 0.8991487852398343, 0.911388578502511, 0.911388578502511, 0.9122602036624974, 0.9122602036624974, 0.9122602036624974, 0.9122602036624974, 0.912458876553261, 0.912458876553261, 0.912458876553261, 0.912458876553261, 0.912458876553261, 0.912458876553261, 0.912458876553261, 0.912458876553261, 0.912458876553261, 0.912458876553261, 0.912458876553261, 0.912458876553261, 0.9205217546789728, 0.9205217546789728, 0.9205217546789728, 0.9205217546789728, 0.9205217546789728, 0.9288430563700901, 0.9288430563700901]}], \"AUC_weighted\": [{\"categories\": [\"0\", \"1\", \"2\", \"3\", \"4\", \"5\", \"6\", \"7\", \"8\", \"9\", \"10\", \"11\", \"12\", \"13\", \"14\", \"15\", \"16\", \"17\", \"18\", \"19\", \"20\", \"21\", \"22\", \"23\", \"24\", \"25\", \"26\", \"27\", \"28\", \"29\"], \"mode\": \"markers\", \"name\": \"AUC_weighted\", \"stepped\": false, \"type\": \"scatter\", \"data\": [0.8944284625534624, 0.8961496723996725, 0.8896479433979434, 0.8574650076212577, 0.5236594549094549, 0.9083607471107471, 0.8884078680953682, 0.9069536582036581, 0.5176086882336882, 0.8135257132132132, 0.8734401446901447, 0.9109020668395669, 0.8658826724451725, 0.8375232903357903, 0.7453759441259441, 0.7120424117299118, 0.746797905860406, 0.8870908977158978, 0.8942829619392119, 0.8895495495495496, 0.8883971187096187, 0.8975114745427245, 0.8856195826508326, 0.908600447037947, 0.8993201155701155, 0.5, 0.904987714987715, 0.8912017841705341, 0.9209293384293384, 0.9102249692874693]}, {\"categories\": [\"0\", \"1\", \"2\", \"3\", \"4\", \"5\", \"6\", \"7\", \"8\", \"9\", \"10\", \"11\", \"12\", \"13\", \"14\", \"15\", \"16\", \"17\", \"18\", \"19\", \"20\", \"21\", \"22\", \"23\", \"24\", \"25\", \"26\", \"27\", \"28\", \"29\"], \"mode\": \"lines\", \"name\": \"AUC_weighted_max\", \"stepped\": true, \"type\": \"scatter\", \"data\": [0.8944284625534624, 0.8961496723996725, 0.8961496723996725, 0.8961496723996725, 0.8961496723996725, 0.9083607471107471, 0.9083607471107471, 0.9083607471107471, 0.9083607471107471, 0.9083607471107471, 0.9083607471107471, 0.9109020668395669, 0.9109020668395669, 0.9109020668395669, 0.9109020668395669, 0.9109020668395669, 0.9109020668395669, 0.9109020668395669, 0.9109020668395669, 0.9109020668395669, 0.9109020668395669, 0.9109020668395669, 0.9109020668395669, 0.9109020668395669, 0.9109020668395669, 0.9109020668395669, 0.9109020668395669, 0.9109020668395669, 0.9209293384293384, 0.9209293384293384]}], \"average_precision_score_macro\": [{\"categories\": [\"0\", \"1\", \"2\", \"3\", \"4\", \"5\", \"6\", \"7\", \"8\", \"9\", \"10\", \"11\", \"12\", \"13\", \"14\", \"15\", \"16\", \"17\", \"18\", \"19\", \"20\", \"21\", \"22\", \"23\", \"24\", \"25\", \"26\", \"27\", \"28\", \"29\"], \"mode\": \"markers\", \"name\": \"average_precision_score_macro\", \"stepped\": false, \"type\": \"scatter\", \"data\": [0.8759564482285906, 0.8843250283269292, 0.8844895520955434, 0.8409573688452191, 0.5505554268371192, 0.8983702542843324, 0.88578408104222, 0.9018891332447243, 0.5466683221118607, 0.7900502631426689, 0.8549981262272148, 0.905174475590189, 0.8609121792702243, 0.8195452018346152, 0.729847408167706, 0.71370913130236, 0.7522076589398857, 0.8894244739695062, 0.8790407420503151, 0.8864638241792869, 0.8880814822779995, 0.8907898961721703, 0.8632137624688706, 0.9085801288343152, 0.8914936324315963, 0.5, 0.8921545690459569, 0.8792770891123075, 0.9186319421385046, 0.9111448423066426]}, {\"categories\": [\"0\", \"1\", \"2\", \"3\", \"4\", \"5\", \"6\", \"7\", \"8\", \"9\", \"10\", \"11\", \"12\", \"13\", \"14\", \"15\", \"16\", \"17\", \"18\", \"19\", \"20\", \"21\", \"22\", \"23\", \"24\", \"25\", \"26\", \"27\", \"28\", \"29\"], \"mode\": \"lines\", \"name\": \"average_precision_score_macro_max\", \"stepped\": true, \"type\": \"scatter\", \"data\": [0.8759564482285906, 0.8843250283269292, 0.8844895520955434, 0.8844895520955434, 0.8844895520955434, 0.8983702542843324, 0.8983702542843324, 0.9018891332447243, 0.9018891332447243, 0.9018891332447243, 0.9018891332447243, 0.905174475590189, 0.905174475590189, 0.905174475590189, 0.905174475590189, 0.905174475590189, 0.905174475590189, 0.905174475590189, 0.905174475590189, 0.905174475590189, 0.905174475590189, 0.905174475590189, 0.905174475590189, 0.9085801288343152, 0.9085801288343152, 0.9085801288343152, 0.9085801288343152, 0.9085801288343152, 0.9186319421385046, 0.9186319421385046]}], \"AUC_macro\": [{\"categories\": [\"0\", \"1\", \"2\", \"3\", \"4\", \"5\", \"6\", \"7\", \"8\", \"9\", \"10\", \"11\", \"12\", \"13\", \"14\", \"15\", \"16\", \"17\", \"18\", \"19\", \"20\", \"21\", \"22\", \"23\", \"24\", \"25\", \"26\", \"27\", \"28\", \"29\"], \"mode\": \"markers\", \"name\": \"AUC_macro\", \"stepped\": false, \"type\": \"scatter\", \"data\": [0.8944284625534624, 0.8961496723996725, 0.8896479433979434, 0.8574650076212577, 0.5236594549094549, 0.9083607471107472, 0.8884078680953681, 0.9069536582036581, 0.5176086882336882, 0.8135257132132132, 0.8734401446901447, 0.9109020668395669, 0.8658826724451725, 0.8375232903357904, 0.745375944125944, 0.7120424117299117, 0.746797905860406, 0.8870908977158978, 0.8942829619392119, 0.8895495495495496, 0.8883971187096187, 0.8975114745427245, 0.88560511505824, 0.908600447037947, 0.8993201155701156, 0.5, 0.904987714987715, 0.8912017841705341, 0.9209293384293386, 0.9102249692874693]}, {\"categories\": [\"0\", \"1\", \"2\", \"3\", \"4\", \"5\", \"6\", \"7\", \"8\", \"9\", \"10\", \"11\", \"12\", \"13\", \"14\", \"15\", \"16\", \"17\", \"18\", \"19\", \"20\", \"21\", \"22\", \"23\", \"24\", \"25\", \"26\", \"27\", \"28\", \"29\"], \"mode\": \"lines\", \"name\": \"AUC_macro_max\", \"stepped\": true, \"type\": \"scatter\", \"data\": [0.8944284625534624, 0.8961496723996725, 0.8961496723996725, 0.8961496723996725, 0.8961496723996725, 0.9083607471107472, 0.9083607471107472, 0.9083607471107472, 0.9083607471107472, 0.9083607471107472, 0.9083607471107472, 0.9109020668395669, 0.9109020668395669, 0.9109020668395669, 0.9109020668395669, 0.9109020668395669, 0.9109020668395669, 0.9109020668395669, 0.9109020668395669, 0.9109020668395669, 0.9109020668395669, 0.9109020668395669, 0.9109020668395669, 0.9109020668395669, 0.9109020668395669, 0.9109020668395669, 0.9109020668395669, 0.9109020668395669, 0.9209293384293386, 0.9209293384293386]}], \"f1_score_macro\": [{\"categories\": [\"0\", \"1\", \"2\", \"3\", \"4\", \"5\", \"6\", \"7\", \"8\", \"9\", \"10\", \"11\", \"12\", \"13\", \"14\", \"15\", \"16\", \"17\", \"18\", \"19\", \"20\", \"21\", \"22\", \"23\", \"24\", \"25\", \"26\", \"27\", \"28\", \"29\"], \"mode\": \"markers\", \"name\": \"f1_score_macro\", \"stepped\": false, \"type\": \"scatter\", \"data\": [0.7666151799683494, 0.7799766015989048, 0.79440174533566, 0.7343673648271348, 0.4947335838017949, 0.7833057346785146, 0.7619472686369, 0.7586992769284436, 0.5024817524817525, 0.6882997069056684, 0.7373944972725932, 0.7951210256703285, 0.72994740261569, 0.538073073211464, 0.6511292379108471, 0.6044805038065073, 0.6795273019231353, 0.7806590859751779, 0.7627431033928296, 0.7706450144703156, 0.8011044527780544, 0.7886427756862873, 0.7963446803015605, 0.795481537979198, 0.7849974526445114, 0.3972470238095238, 0.781812476928756, 0.6871757096765445, 0.8416904344257352, 0.7762881580134091]}, {\"categories\": [\"0\", \"1\", \"2\", \"3\", \"4\", \"5\", \"6\", \"7\", \"8\", \"9\", \"10\", \"11\", \"12\", \"13\", \"14\", \"15\", \"16\", \"17\", \"18\", \"19\", \"20\", \"21\", \"22\", \"23\", \"24\", \"25\", \"26\", \"27\", \"28\", \"29\"], \"mode\": \"lines\", \"name\": \"f1_score_macro_max\", \"stepped\": true, \"type\": \"scatter\", \"data\": [0.7666151799683494, 0.7799766015989048, 0.79440174533566, 0.79440174533566, 0.79440174533566, 0.79440174533566, 0.79440174533566, 0.79440174533566, 0.79440174533566, 0.79440174533566, 0.79440174533566, 0.7951210256703285, 0.7951210256703285, 0.7951210256703285, 0.7951210256703285, 0.7951210256703285, 0.7951210256703285, 0.7951210256703285, 0.7951210256703285, 0.7951210256703285, 0.8011044527780544, 0.8011044527780544, 0.8011044527780544, 0.8011044527780544, 0.8011044527780544, 0.8011044527780544, 0.8011044527780544, 0.8011044527780544, 0.8416904344257352, 0.8416904344257352]}], \"log_loss\": [{\"categories\": [\"0\", \"1\", \"2\", \"3\", \"4\", \"5\", \"6\", \"7\", \"8\", \"9\", \"10\", \"11\", \"12\", \"13\", \"14\", \"15\", \"16\", \"17\", \"18\", \"19\", \"20\", \"21\", \"22\", \"23\", \"24\", \"25\", \"26\", \"27\", \"28\", \"29\"], \"mode\": \"markers\", \"name\": \"log_loss\", \"stepped\": false, \"type\": \"scatter\", \"data\": [0.5385872542758215, 0.4817689958981808, 0.5415447957203519, 0.531020121852012, 1.9345523180638067, 0.42395051379793736, 0.4519277962474326, 0.4987972463408087, 1.3592716157130187, 0.5169506778773688, 0.5075039224984209, 0.4843736018499731, 0.5219534913414065, 0.5432150800800708, 1.7584264271433876, 1.253418514385026, 0.8469717156791132, 0.4366459697992331, 0.5307740588801652, 0.5157639119029531, 0.4287568408497977, 0.4888739524889564, 0.9668597398208296, 0.3939482150978344, 0.4078881848541456, 0.6461047426778153, 0.41835282755160325, 0.4763643451812038, 0.4474649401921089, 0.4254099887991821]}, {\"categories\": [\"0\", \"1\", \"2\", \"3\", \"4\", \"5\", \"6\", \"7\", \"8\", \"9\", \"10\", \"11\", \"12\", \"13\", \"14\", \"15\", \"16\", \"17\", \"18\", \"19\", \"20\", \"21\", \"22\", \"23\", \"24\", \"25\", \"26\", \"27\", \"28\", \"29\"], \"mode\": \"lines\", \"name\": \"log_loss_min\", \"stepped\": true, \"type\": \"scatter\", \"data\": [0.5385872542758215, 0.4817689958981808, 0.4817689958981808, 0.4817689958981808, 0.4817689958981808, 0.42395051379793736, 0.42395051379793736, 0.42395051379793736, 0.42395051379793736, 0.42395051379793736, 0.42395051379793736, 0.42395051379793736, 0.42395051379793736, 0.42395051379793736, 0.42395051379793736, 0.42395051379793736, 0.42395051379793736, 0.42395051379793736, 0.42395051379793736, 0.42395051379793736, 0.42395051379793736, 0.42395051379793736, 0.42395051379793736, 0.3939482150978344, 0.3939482150978344, 0.3939482150978344, 0.3939482150978344, 0.3939482150978344, 0.3939482150978344, 0.3939482150978344]}]}, \"metricName\": null, \"primaryMetricName\": \"accuracy\", \"showLegend\": false}, \"run_metrics\": [{\"name\": \"experiment_status\", \"run_id\": \"AutoML_76b54900-9e91-44d7-9865-7b545508a74f\", \"categories\": [0, 1, 2, 3, 4, 5, 6, 7, 8, 9, 10, 11, 12, 13], \"series\": [{\"data\": [\"DatasetEvaluation\", \"FeaturesGeneration\", \"DatasetFeaturization\", \"DatasetFeaturizationCompleted\", \"DatasetCrossValidationSplit\", \"ModelSelection\", \"BestRunExplainModel\", \"ModelExplanationDataSetSetup\", \"PickSurrogateModel\", \"EngineeredFeatureExplanations\", \"EngineeredFeatureExplanations\", \"RawFeaturesExplanations\", \"RawFeaturesExplanations\", \"BestRunExplainModel\"]}]}, {\"name\": \"experiment_status_description\", \"run_id\": \"AutoML_76b54900-9e91-44d7-9865-7b545508a74f\", \"categories\": [0, 1, 2, 3, 4, 5, 6, 7, 8, 9, 10, 11, 12, 13], \"series\": [{\"data\": [\"Gathering dataset statistics.\", \"Generating features for the dataset.\", \"Beginning to fit featurizers and featurize the dataset.\", \"Completed fit featurizers and featurizing the dataset.\", \"Generating individually featurized CV splits.\", \"Beginning model selection.\", \"Best run model explanations started\", \"Model explanations data setup completed\", \"Choosing LightGBM as the surrogate model for explanations\", \"Computation of engineered features started\", \"Computation of engineered features completed\", \"Computation of raw features started\", \"Computation of raw features completed\", \"Best run model explanations completed\"]}]}, {\"name\": \"average_precision_score_weighted\", \"run_id\": \"AutoML_76b54900-9e91-44d7-9865-7b545508a74f\", \"categories\": [0], \"series\": [{\"data\": [0.9288430563700901]}]}, {\"name\": \"balanced_accuracy\", \"run_id\": \"AutoML_76b54900-9e91-44d7-9865-7b545508a74f\", \"categories\": [0], \"series\": [{\"data\": [0.8342461779961781]}]}, {\"name\": \"f1_score_micro\", \"run_id\": \"AutoML_76b54900-9e91-44d7-9865-7b545508a74f\", \"categories\": [0], \"series\": [{\"data\": [0.8660310734463277]}]}, {\"name\": \"f1_score_weighted\", \"run_id\": \"AutoML_76b54900-9e91-44d7-9865-7b545508a74f\", \"categories\": [0], \"series\": [{\"data\": [0.8584376790662731]}]}, {\"name\": \"matthews_correlation\", \"run_id\": \"AutoML_76b54900-9e91-44d7-9865-7b545508a74f\", \"categories\": [0], \"series\": [{\"data\": [0.7128900301749486]}]}, {\"name\": \"average_precision_score_micro\", \"run_id\": \"AutoML_76b54900-9e91-44d7-9865-7b545508a74f\", \"categories\": [0], \"series\": [{\"data\": [0.9099731210667553]}]}, {\"name\": \"precision_score_weighted\", \"run_id\": \"AutoML_76b54900-9e91-44d7-9865-7b545508a74f\", \"categories\": [0], \"series\": [{\"data\": [0.8794675308042582]}]}, {\"name\": \"precision_score_micro\", \"run_id\": \"AutoML_76b54900-9e91-44d7-9865-7b545508a74f\", \"categories\": [0], \"series\": [{\"data\": [0.8660310734463277]}]}, {\"name\": \"f1_score_macro\", \"run_id\": \"AutoML_76b54900-9e91-44d7-9865-7b545508a74f\", \"categories\": [0], \"series\": [{\"data\": [0.8416904344257352]}]}, {\"name\": \"log_loss\", \"run_id\": \"AutoML_76b54900-9e91-44d7-9865-7b545508a74f\", \"categories\": [0], \"series\": [{\"data\": [0.4474649401921089]}]}, {\"name\": \"AUC_macro\", \"run_id\": \"AutoML_76b54900-9e91-44d7-9865-7b545508a74f\", \"categories\": [0], \"series\": [{\"data\": [0.9209293384293386]}]}, {\"name\": \"norm_macro_recall\", \"run_id\": \"AutoML_76b54900-9e91-44d7-9865-7b545508a74f\", \"categories\": [0], \"series\": [{\"data\": [0.668492355992356]}]}, {\"name\": \"precision_score_macro\", \"run_id\": \"AutoML_76b54900-9e91-44d7-9865-7b545508a74f\", \"categories\": [0], \"series\": [{\"data\": [0.8828543846028114]}]}, {\"name\": \"recall_score_micro\", \"run_id\": \"AutoML_76b54900-9e91-44d7-9865-7b545508a74f\", \"categories\": [0], \"series\": [{\"data\": [0.8660310734463277]}]}, {\"name\": \"accuracy\", \"run_id\": \"AutoML_76b54900-9e91-44d7-9865-7b545508a74f\", \"categories\": [0], \"series\": [{\"data\": [0.8660310734463277]}]}, {\"name\": \"AUC_micro\", \"run_id\": \"AutoML_76b54900-9e91-44d7-9865-7b545508a74f\", \"categories\": [0], \"series\": [{\"data\": [0.9067878203900539]}]}, {\"name\": \"AUC_weighted\", \"run_id\": \"AutoML_76b54900-9e91-44d7-9865-7b545508a74f\", \"categories\": [0], \"series\": [{\"data\": [0.9209293384293384]}]}, {\"name\": \"recall_score_macro\", \"run_id\": \"AutoML_76b54900-9e91-44d7-9865-7b545508a74f\", \"categories\": [0], \"series\": [{\"data\": [0.8342461779961781]}]}, {\"name\": \"weighted_accuracy\", \"run_id\": \"AutoML_76b54900-9e91-44d7-9865-7b545508a74f\", \"categories\": [0], \"series\": [{\"data\": [0.893753788036033]}]}, {\"name\": \"recall_score_weighted\", \"run_id\": \"AutoML_76b54900-9e91-44d7-9865-7b545508a74f\", \"categories\": [0], \"series\": [{\"data\": [0.8660310734463277]}]}, {\"name\": \"average_precision_score_macro\", \"run_id\": \"AutoML_76b54900-9e91-44d7-9865-7b545508a74f\", \"categories\": [0], \"series\": [{\"data\": [0.9186319421385046]}]}], \"run_logs\": \"\\nRun is completed.\", \"graph\": {}, \"widget_settings\": {\"childWidgetDisplay\": \"popup\", \"send_telemetry\": false, \"log_level\": \"INFO\", \"sdk_version\": \"1.33.0\"}, \"loading\": false}"
          },
          "metadata": {}
        }
      ],
      "execution_count": 19,
      "metadata": {
        "gather": {
          "logged": 1630655108298
        },
        "jupyter": {
          "outputs_hidden": false,
          "source_hidden": false
        },
        "nteract": {
          "transient": {
            "deleting": false
          }
        }
      }
    },
    {
      "cell_type": "markdown",
      "source": [
        "## Best Model\n",
        "\n"
      ],
      "metadata": {}
    },
    {
      "cell_type": "code",
      "source": [
        "best_run, fitted_model = remote_run.get_output()\n",
        "\n",
        "best_run_metrics = best_run.get_metrics()\n",
        "\n",
        "for metric_name in best_run_metrics:\n",
        "    metric = best_run_metrics[metric_name]\n",
        "    print(metric_name, metric)"
      ],
      "outputs": [
        {
          "output_type": "stream",
          "name": "stdout",
          "text": [
            "weighted_accuracy 0.893753788036033\n",
            "average_precision_score_macro 0.9186319421385046\n",
            "matthews_correlation 0.7128900301749486\n",
            "precision_score_macro 0.8828543846028114\n",
            "precision_score_micro 0.8660310734463277\n",
            "log_loss 0.4474649401921089\n",
            "AUC_weighted 0.9209293384293384\n",
            "AUC_macro 0.9209293384293386\n",
            "f1_score_micro 0.8660310734463277\n",
            "recall_score_weighted 0.8660310734463277\n",
            "norm_macro_recall 0.668492355992356\n",
            "balanced_accuracy 0.8342461779961781\n",
            "f1_score_macro 0.8416904344257352\n",
            "average_precision_score_micro 0.9099731210667553\n",
            "AUC_micro 0.9067878203900539\n",
            "accuracy 0.8660310734463277\n",
            "f1_score_weighted 0.8584376790662731\n",
            "recall_score_micro 0.8660310734463277\n",
            "precision_score_weighted 0.8794675308042582\n",
            "average_precision_score_weighted 0.9288430563700901\n",
            "recall_score_macro 0.8342461779961781\n",
            "accuracy_table aml://artifactId/ExperimentRun/dcid.AutoML_76b54900-9e91-44d7-9865-7b545508a74f_28/accuracy_table\n",
            "confusion_matrix aml://artifactId/ExperimentRun/dcid.AutoML_76b54900-9e91-44d7-9865-7b545508a74f_28/confusion_matrix\n"
          ]
        }
      ],
      "execution_count": 20,
      "metadata": {
        "gather": {
          "logged": 1630662904364
        },
        "jupyter": {
          "outputs_hidden": false,
          "source_hidden": false
        },
        "nteract": {
          "transient": {
            "deleting": false
          }
        }
      }
    },
    {
      "cell_type": "code",
      "source": [
        "best_run"
      ],
      "outputs": [
        {
          "output_type": "execute_result",
          "execution_count": 24,
          "data": {
            "text/plain": "Run(Experiment: heart-failure-prediction-experiment,\nId: AutoML_76b54900-9e91-44d7-9865-7b545508a74f_28,\nType: azureml.scriptrun,\nStatus: Completed)",
            "text/html": "<table style=\"width:100%\"><tr><th>Experiment</th><th>Id</th><th>Type</th><th>Status</th><th>Details Page</th><th>Docs Page</th></tr><tr><td>heart-failure-prediction-experiment</td><td>AutoML_76b54900-9e91-44d7-9865-7b545508a74f_28</td><td>azureml.scriptrun</td><td>Completed</td><td><a href=\"https://ml.azure.com/runs/AutoML_76b54900-9e91-44d7-9865-7b545508a74f_28?wsid=/subscriptions/7292cf53-4607-42aa-ae5d-bbb29bb79c07/resourcegroups/udacity-azure-ml/workspaces/udacity-azure-ml&amp;tid=6f4ead32-2680-469c-991a-2b4d707c6cc9\" target=\"_blank\" rel=\"noopener\">Link to Azure Machine Learning studio</a></td><td><a href=\"https://docs.microsoft.com/en-us/python/api/azureml-core/azureml.core.run.Run?view=azure-ml-py\" target=\"_blank\" rel=\"noopener\">Link to Documentation</a></td></tr></table>"
          },
          "metadata": {}
        }
      ],
      "execution_count": 24,
      "metadata": {
        "collapsed": true,
        "jupyter": {
          "source_hidden": false,
          "outputs_hidden": false
        },
        "nteract": {
          "transient": {
            "deleting": false
          }
        },
        "gather": {
          "logged": 1630663032136
        }
      }
    },
    {
      "cell_type": "code",
      "source": [
        "# Save the best model\n",
        "\n",
        "best_run.register_model(model_name = 'automl_best_model.pkl', model_path = './outputs/')\n",
        "joblib.dump(fitted_model, filename= \"outputs/automl_model.pkl\")"
      ],
      "outputs": [
        {
          "output_type": "execute_result",
          "execution_count": 25,
          "data": {
            "text/plain": "['outputs/automl_model.pkl']"
          },
          "metadata": {}
        }
      ],
      "execution_count": 25,
      "metadata": {
        "gather": {
          "logged": 1630663044496
        },
        "jupyter": {
          "outputs_hidden": false,
          "source_hidden": false
        },
        "nteract": {
          "transient": {
            "deleting": false
          }
        }
      }
    },
    {
      "cell_type": "markdown",
      "source": [
        "## Model Deployment\n",
        "\n",
        "Remember you have to deploy only one of the two models you trained.. Perform the steps in the rest of this notebook only if you wish to deploy this model."
      ],
      "metadata": {}
    },
    {
      "cell_type": "code",
      "source": [
        "best_run.download_file('outputs/scoring_file_v_1_0_0.py', 'inference/score.py')\n",
        "best_run.download_file(constants.CONDA_ENV_FILE_PATH, 'automl_env.yml')"
      ],
      "outputs": [],
      "execution_count": 27,
      "metadata": {
        "gather": {
          "logged": 1630663276921
        },
        "jupyter": {
          "outputs_hidden": false,
          "source_hidden": false
        },
        "nteract": {
          "transient": {
            "deleting": false
          }
        }
      }
    },
    {
      "cell_type": "code",
      "source": [
        "# Register the model\n",
        "\n",
        "model_name = best_run.properties['model_name']\n",
        "description = 'AutoML Model to predict heart failure data to predict death occurs or not'\n",
        "\n",
        "tags = None\n",
        "model = remote_run.register_model(model_name=model_name, description=description, tags=None)\n",
        "\n",
        "remote_run.model_id"
      ],
      "outputs": [
        {
          "output_type": "execute_result",
          "execution_count": 28,
          "data": {
            "text/plain": "'AutoML76b54900928'"
          },
          "metadata": {}
        }
      ],
      "execution_count": 28,
      "metadata": {
        "collapsed": true,
        "jupyter": {
          "source_hidden": false,
          "outputs_hidden": false
        },
        "nteract": {
          "transient": {
            "deleting": false
          }
        },
        "gather": {
          "logged": 1630663359462
        }
      }
    },
    {
      "cell_type": "code",
      "source": [
        "# Create inference config\n",
        "\n",
        "script_file_name= 'inference/score.py'\n",
        "inference_config = InferenceConfig(entry_script=script_file_name)\n",
        "\n",
        "aciconfig = AciWebservice.deploy_configuration(cpu_cores = 1, memory_gb = 1, \n",
        "                                               tags = {'area': \"hfData\", 'type': \"automl_classification\"}, \n",
        "                                               description = 'Heart Failure Prediction - AutoML model')\n",
        "\n",
        "aci_service_name = 'heart-failure-prediction-automl'\n",
        "\n",
        "aci_service = Model.deploy(ws, aci_service_name, [model], inference_config, aciconfig)\n",
        "aci_service.wait_for_deployment(True)\n",
        "\n",
        "print(aci_service.state)"
      ],
      "outputs": [
        {
          "output_type": "stream",
          "name": "stdout",
          "text": [
            "Tips: You can try get_logs(): https://aka.ms/debugimage#dockerlog or local deployment: https://aka.ms/debugimage#debug-locally to debug if deployment takes longer than 10 minutes.\n",
            "Running\n",
            "2021-09-03 10:04:20+00:00 Creating Container Registry if not exists.\n",
            "2021-09-03 10:04:21+00:00 Use the existing image.\n",
            "2021-09-03 10:04:21+00:00 Generating deployment configuration.\n",
            "2021-09-03 10:04:22+00:00 Submitting deployment to compute.\n",
            "2021-09-03 10:04:25+00:00 Checking the status of deployment heart-failure-prediction-automl..\n",
            "2021-09-03 10:04:50+00:00 Checking the status of inference endpoint heart-failure-prediction-automl.\n",
            "Succeeded\n",
            "ACI service creation operation finished, operation \"Succeeded\"\n",
            "Healthy\n"
          ]
        }
      ],
      "execution_count": 29,
      "metadata": {
        "collapsed": true,
        "jupyter": {
          "source_hidden": false,
          "outputs_hidden": false
        },
        "nteract": {
          "transient": {
            "deleting": false
          }
        },
        "gather": {
          "logged": 1630663555853
        }
      }
    },
    {
      "cell_type": "code",
      "source": [
        "# Enable Application Insights\n",
        "aci_service.update(enable_app_insights=True)"
      ],
      "outputs": [],
      "execution_count": 30,
      "metadata": {
        "collapsed": true,
        "jupyter": {
          "source_hidden": false,
          "outputs_hidden": false
        },
        "nteract": {
          "transient": {
            "deleting": false
          }
        },
        "gather": {
          "logged": 1630663578604
        }
      }
    },
    {
      "cell_type": "code",
      "source": [
        "print(\"Swagger URI \" + aci_service.swagger_uri)\n",
        "print(\"Model Endpoint URI \" + aci_service.scoring_uri)"
      ],
      "outputs": [
        {
          "output_type": "stream",
          "name": "stdout",
          "text": [
            "Swagger URI http://4aa64d43-489c-4d4d-90c4-b1e4c68d5643.eastus2.azurecontainer.io/swagger.json\n",
            "Model Endpoint URI http://4aa64d43-489c-4d4d-90c4-b1e4c68d5643.eastus2.azurecontainer.io/score\n"
          ]
        }
      ],
      "execution_count": 32,
      "metadata": {
        "collapsed": true,
        "jupyter": {
          "source_hidden": false,
          "outputs_hidden": false
        },
        "nteract": {
          "transient": {
            "deleting": false
          }
        },
        "gather": {
          "logged": 1630663613707
        }
      }
    },
    {
      "cell_type": "markdown",
      "source": [
        "In the cell below, send a request to the web service you deployed to test it."
      ],
      "metadata": {
        "collapsed": true,
        "gather": {
          "logged": 1598431657736
        },
        "jupyter": {
          "outputs_hidden": false,
          "source_hidden": false
        },
        "nteract": {
          "transient": {
            "deleting": false
          }
        }
      }
    },
    {
      "cell_type": "code",
      "source": [
        "import requests\n",
        "import json\n",
        "\n",
        "# URL for the web service, should be similar to:\n",
        "# 'http://<endpoint_id>.eastus.azurecontainer.io/score'\n",
        "\n",
        "scoring_uri = aci_service.scoring_uri # Set the scoring_uri directly from aci_service object\n",
        "\n",
        "# Two sets of data to score, so we get two results back\n",
        "data = {\"data\":\n",
        "        [\n",
        "          {\n",
        "            \"age\": 55.0,\n",
        "            \"anaemia\": 0,\n",
        "            \"creatinine_phosphokinase\": 4010,\n",
        "            \"diabetes\": 0,\n",
        "            \"ejection_fraction\": 32,\n",
        "            \"high_blood_pressure\": 1,\n",
        "            \"platelets\": 234558.23,\n",
        "            \"serum_creatinine\": 1.4,\n",
        "            \"serum_sodium\": 125,\n",
        "            \"sex\": 1,\n",
        "            \"smoking\": 0,\n",
        "            \"time\": 12\n",
        "          },\n",
        "      ]\n",
        "    }\n",
        "\n",
        "# Make the request and display the response\n",
        "resp = requests.post(scoring_uri, json=data)\n",
        "print(resp.json())"
      ],
      "outputs": [
        {
          "output_type": "stream",
          "name": "stdout",
          "text": [
            "{\"result\": [1]}\n"
          ]
        }
      ],
      "execution_count": 42,
      "metadata": {
        "gather": {
          "logged": 1630663961413
        },
        "jupyter": {
          "outputs_hidden": false,
          "source_hidden": false
        },
        "nteract": {
          "transient": {
            "deleting": false
          }
        }
      }
    },
    {
      "cell_type": "markdown",
      "source": [
        "In the cell below, print the logs of the web service and delete the service"
      ],
      "metadata": {
        "collapsed": true,
        "gather": {
          "logged": 1598432765711
        },
        "jupyter": {
          "outputs_hidden": false,
          "source_hidden": false
        },
        "nteract": {
          "transient": {
            "deleting": false
          }
        }
      }
    },
    {
      "cell_type": "code",
      "source": [
        "# Get the deployed model endpoint logs\n",
        "aci_service.get_logs()\n"
      ],
      "outputs": [
        {
          "output_type": "execute_result",
          "execution_count": 37,
          "data": {
            "text/plain": "'2021-09-03T10:09:41,525163300+00:00 - gunicorn/run \\nDynamic Python package installation is disabled.\\nStarting HTTP server\\n2021-09-03T10:09:41,526267000+00:00 - iot-server/run \\n2021-09-03T10:09:41,550362200+00:00 - rsyslog/run \\nrsyslogd: /azureml-envs/azureml_77e992fdaf2b83b0c81ee1c90ded8d17/lib/libuuid.so.1: no version information available (required by rsyslogd)\\n2021-09-03T10:09:41,664188400+00:00 - nginx/run \\nEdgeHubConnectionString and IOTEDGE_IOTHUBHOSTNAME are not set. Exiting...\\n2021-09-03T10:09:42,008552800+00:00 - iot-server/finish 1 0\\n2021-09-03T10:09:42,009982800+00:00 - Exit code 1 is normal. Not restarting iot-server.\\nStarting gunicorn 20.1.0\\nListening at: http://127.0.0.1:31311 (64)\\nUsing worker: sync\\nworker timeout is set to 300\\nBooting worker with pid: 89\\nSPARK_HOME not set. Skipping PySpark Initialization.\\nGenerating new fontManager, this may take some time...\\nInitializing logger\\n2021-09-03 10:09:45,085 | root | INFO | Starting up app insights client\\nlogging socket was found. logging is available.\\nlogging socket was found. logging is available.\\n2021-09-03 10:09:45,086 | root | INFO | Starting up request id generator\\n2021-09-03 10:09:45,086 | root | INFO | Starting up app insight hooks\\n2021-09-03 10:09:45,086 | root | INFO | Invoking user\\'s init function\\n2021-09-03 10:09:49,689 | azureml.core | WARNING | Failure while loading azureml_run_type_providers. Failed to load entrypoint automl = azureml.train.automl.run:AutoMLRun._from_run_dto with exception cannot import name \\'RunType\\'.\\nFailure while loading azureml_run_type_providers. Failed to load entrypoint automl = azureml.train.automl.run:AutoMLRun._from_run_dto with exception cannot import name \\'RunType\\'.\\n2021-09-03 10:09:51,107 | root | INFO | Users\\'s init has completed successfully\\n2021-09-03 10:09:51,114 | root | INFO | Skipping middleware: dbg_model_info as it\\'s not enabled.\\n2021-09-03 10:09:51,115 | root | INFO | Skipping middleware: dbg_resource_usage as it\\'s not enabled.\\nGenerating swagger file: /tmp/tmpqojmbkis\\n2021-09-03 10:09:51,121 | root | INFO | Scoring timeout is found from os.environ: 60000 ms\\n2021-09-03 10:10:24,839 | root | INFO | 200\\n127.0.0.1 - - [03/Sep/2021:10:10:24 +0000] \"GET /swagger.json HTTP/1.0\" 200 3065 \"-\" \"Go-http-client/1.1\"\\n'"
          },
          "metadata": {}
        }
      ],
      "execution_count": 37,
      "metadata": {
        "jupyter": {
          "outputs_hidden": false,
          "source_hidden": false
        },
        "nteract": {
          "transient": {
            "deleting": false
          }
        },
        "gather": {
          "logged": 1630663876859
        }
      }
    },
    {
      "cell_type": "code",
      "source": [
        "# Delete the deployed service\n",
        "aci_service.delete()"
      ],
      "outputs": [],
      "execution_count": 43,
      "metadata": {
        "collapsed": true,
        "jupyter": {
          "source_hidden": false,
          "outputs_hidden": false
        },
        "nteract": {
          "transient": {
            "deleting": false
          }
        },
        "gather": {
          "logged": 1630664355523
        }
      }
    }
  ],
  "metadata": {
    "kernel_info": {
      "name": "python3"
    },
    "kernelspec": {
      "name": "python3",
      "language": "python",
      "display_name": "Python 3"
    },
    "language_info": {
      "name": "python",
      "version": "3.6.9",
      "mimetype": "text/x-python",
      "codemirror_mode": {
        "name": "ipython",
        "version": 3
      },
      "pygments_lexer": "ipython3",
      "nbconvert_exporter": "python",
      "file_extension": ".py"
    },
    "nteract": {
      "version": "nteract-front-end@1.0.0"
    },
    "microsoft": {
      "host": {
        "AzureML": {
          "notebookHasBeenCompleted": true
        }
      }
    }
  },
  "nbformat": 4,
  "nbformat_minor": 2
}